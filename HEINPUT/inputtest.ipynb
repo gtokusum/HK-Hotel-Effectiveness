{
 "cells": [
  {
   "cell_type": "code",
   "execution_count": null,
   "metadata": {},
   "outputs": [],
   "source": [
    "import pandas as pd\n",
    "import selenium\n",
    "from selenium import webdriver\n",
    "from selenium.webdriver.chrome.service import Service as ChromeService\n",
    "from webdriver_manager.chrome import ChromeDriverManager\n",
    "\n",
    "# driver = webdriver.Chrome(service=ChromeService(ChromeDriverManager().install()))\n"
   ]
  },
  {
   "cell_type": "code",
   "execution_count": 1,
   "metadata": {},
   "outputs": [],
   "source": [
    "import pytest\n",
    "import time\n",
    "import json\n",
    "from selenium import webdriver\n",
    "from selenium.webdriver.common.by import By\n",
    "from selenium.webdriver.common.action_chains import ActionChains\n",
    "from selenium.webdriver.support import expected_conditions\n",
    "from selenium.webdriver.support.wait import WebDriverWait\n",
    "from selenium.webdriver.common.keys import Keys\n",
    "from selenium.webdriver.common.desired_capabilities import DesiredCapabilities"
   ]
  },
  {
   "cell_type": "code",
   "execution_count": 26,
   "metadata": {},
   "outputs": [],
   "source": [
    "driver = webdriver.Chrome()"
   ]
  },
  {
   "cell_type": "code",
   "execution_count": 27,
   "metadata": {},
   "outputs": [],
   "source": [
    "# from selenium.webdriver.support.wait import WebDriverWait\n",
    "# driver = webdriver.Chrome()\n",
    "driver.get(\"https://my.hoteleffectiveness.com/signin\")\n",
    "driver.set_window_size(945, 1020)\n",
    "driver.find_element(By.ID, \"myheqa-loginForm-field-username\").send_keys(\"gtokusumi\") #username\n",
    "driver.find_element(By.ID, \"myheqa-loginForm-field-password\").send_keys(\"password\") #password\n",
    "driver.find_element(By.ID, \"myheqa-loginForm-button-submit\").click() #click on log in button\n",
    "\n",
    "# waits until it finds link to housekeeping gameday set up page. once found click it\n",
    "WebDriverWait(driver,timeout=30).until(lambda d: d.find_element(By.XPATH,\"/html/body/he-root/div/ng-component/div/main/ng-component/ng-component/he-page-body-container/div/he-hotel-view-widgets/div/div/div[1]/div/he-dynamic-component-wrapper/ng-component/div/form/div[3]/a\")) #waits until start game day button\n",
    "driver.find_element(By.XPATH, \"/html/body/he-root/div/ng-component/div/main/ng-component/ng-component/he-page-body-container/div/he-hotel-view-widgets/div/div/div[1]/div/he-dynamic-component-wrapper/ng-component/div/form/div[3]/a\").click() #click start gameday button\n",
    "\n",
    "# waits for the receiver frame to be found then switches to it to click on 'Show Only Scheduled Room Attendants'\n",
    "WebDriverWait(driver,timeout=30).until(expected_conditions.frame_to_be_available_and_switch_to_it((By.ID,'receiver')))\n",
    "driver.switch_to.default_content()\n",
    "# driver.implicitly_wait(15) #uncomment if needed. \n",
    "driver.switch_to.frame('receiver') #swtich frame to receiver \n",
    "WebDriverWait(driver,timeout=30).until(lambda d: d.find_element(By.ID,'ctl00_main_rlHskpList')) #wait until it locates table that includes the button for only scheduled attendants\n",
    "table = driver.find_element(By.ID,'ctl00_main_rlHskpList') #find table and save as table variable\n",
    "table.find_element(By.ID, \"ctl00_main_rlHskpList_1\").click() #find radio button and click\n",
    "driver.find_element(By.NAME, \"ctl00$main$btnGameDaySchedule\").click() #go to gameday grid\n",
    "\n",
    "driver.switch_to.default_content() #switches back to default content"
   ]
  },
  {
   "cell_type": "code",
   "execution_count": 25,
   "metadata": {},
   "outputs": [],
   "source": [
    "driver.quit()"
   ]
  },
  {
   "cell_type": "code",
   "execution_count": null,
   "metadata": {},
   "outputs": [],
   "source": []
  }
 ],
 "metadata": {
  "kernelspec": {
   "display_name": "Python 3",
   "language": "python",
   "name": "python3"
  },
  "language_info": {
   "codemirror_mode": {
    "name": "ipython",
    "version": 3
   },
   "file_extension": ".py",
   "mimetype": "text/x-python",
   "name": "python",
   "nbconvert_exporter": "python",
   "pygments_lexer": "ipython3",
   "version": "3.11.2"
  },
  "orig_nbformat": 4
 },
 "nbformat": 4,
 "nbformat_minor": 2
}
