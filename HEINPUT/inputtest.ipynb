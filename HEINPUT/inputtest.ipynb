{
 "cells": [
  {
   "attachments": {},
   "cell_type": "markdown",
   "metadata": {},
   "source": [
    "# Test file to outline input of values into housekeeping gameday table"
   ]
  },
  {
   "attachments": {},
   "cell_type": "markdown",
   "metadata": {},
   "source": [
    "Dependencies: \n",
    "* pandas\n",
    "* selenium\n",
    "* selenium webdriver\n",
    "* chrome driver manager"
   ]
  },
  {
   "cell_type": "code",
   "execution_count": 1,
   "metadata": {},
   "outputs": [],
   "source": [
    "import pytest\n",
    "import pandas as pd\n",
    "import time\n",
    "import json\n",
    "import selenium\n",
    "from selenium import webdriver\n",
    "from selenium.webdriver.common.by import By\n",
    "from selenium.webdriver.common.action_chains import ActionChains\n",
    "from selenium.webdriver.support import expected_conditions\n",
    "from selenium.webdriver.support.wait import WebDriverWait\n",
    "from selenium.webdriver.common.keys import Keys\n",
    "from selenium.webdriver.common.desired_capabilities import DesiredCapabilities\n",
    "\n",
    "# uncomment below to install chrome driver manager\n",
    "# driver = webdriver.Chrome(service=ChromeService(ChromeDriverManager().install()))"
   ]
  },
  {
   "cell_type": "code",
   "execution_count": 48,
   "metadata": {},
   "outputs": [],
   "source": [
    "driver = webdriver.Chrome()"
   ]
  },
  {
   "attachments": {},
   "cell_type": "markdown",
   "metadata": {},
   "source": [
    "Function to open the housekeeping gameday table"
   ]
  },
  {
   "cell_type": "code",
   "execution_count": 49,
   "metadata": {},
   "outputs": [],
   "source": [
    "# from selenium.webdriver.support.wait import WebDriverWait\n",
    "# driver = webdriver.Chrome()\n",
    "driver.get(\"https://my.hoteleffectiveness.com/signin\")\n",
    "driver.set_window_size(945, 1020)\n",
    "driver.find_element(By.ID, \"myheqa-loginForm-field-username\").send_keys(\"gtokusumi\") #username\n",
    "driver.find_element(By.ID, \"myheqa-loginForm-field-password\").send_keys(\"password\") #password\n",
    "driver.find_element(By.ID, \"myheqa-loginForm-button-submit\").click() #click on log in button\n",
    "\n",
    "# waits until it finds link to housekeeping gameday set up page. once found click it\n",
    "WebDriverWait(driver,timeout=30).until(lambda d: d.find_element(By.XPATH,\"/html/body/he-root/div/ng-component/div/main/ng-component/ng-component/he-page-body-container/div/he-hotel-view-widgets/div/div/div[1]/div/he-dynamic-component-wrapper/ng-component/div/form/div[3]/a\")) #waits until start game day button\n",
    "driver.find_element(By.XPATH, \"/html/body/he-root/div/ng-component/div/main/ng-component/ng-component/he-page-body-container/div/he-hotel-view-widgets/div/div/div[1]/div/he-dynamic-component-wrapper/ng-component/div/form/div[3]/a\").click() #click start gameday button\n",
    "\n",
    "# waits for the receiver frame to be found then switches to it to click on 'Show Only Scheduled Room Attendants'\n",
    "WebDriverWait(driver,timeout=30).until(expected_conditions.frame_to_be_available_and_switch_to_it((By.ID,'receiver')))\n",
    "driver.switch_to.default_content()\n",
    "# driver.implicitly_wait(15) #uncomment if needed. \n",
    "driver.switch_to.frame('receiver') #swtich frame to receiver \n",
    "WebDriverWait(driver,timeout=30).until(lambda d: d.find_element(By.ID,'ctl00_main_rlHskpList')) #wait until it locates table that includes the button for only scheduled attendants\n",
    "table = driver.find_element(By.ID,'ctl00_main_rlHskpList') #find table and save as table variable\n",
    "table.find_element(By.ID, \"ctl00_main_rlHskpList_1\").click() #find radio button and click\n",
    "driver.find_element(By.NAME, \"ctl00$main$btnGameDaySchedule\").click() #go to gameday grid\n",
    "\n",
    "driver.switch_to.default_content() #switches back to default content"
   ]
  },
  {
   "attachments": {},
   "cell_type": "markdown",
   "metadata": {},
   "source": [
    "Function to input data into table <br>\n",
    "grid is set up where the last 4 numbers of the element ID points to a specific cell. ex. 1101 <br>\n",
    "first 2 numbers identify the column and the last 2 numbers identify the row starting at 0. <br>\n",
    "1101 would point to the (2,1)"
   ]
  },
  {
   "cell_type": "code",
   "execution_count": null,
   "metadata": {},
   "outputs": [],
   "source": [
    "from random import randint # for now using random numbers will just need to pull the data from dataframe\n",
    "empNum = 8 # number of employees for the given day. Can be pulled from the dataframe\n",
    "driver.switch_to.frame('receiver') #swtich to frame with grid\n",
    "grid = driver.find_element(By.ID,'ctl00_main_tblGameDaySchedule') # finds grid and saves as variable\n",
    "\n",
    "# will loop through each cell and input value\n",
    "for j in range(0,empNum): # row value\n",
    "    for i in range(2,6): # column calue\n",
    "        grid.find_element(By.ID, f'ctl00_main_txtScheduleDetail1{i}0{j}').send_keys(randint(0,10))\n",
    "\n",
    "#switch back to default content\n",
    "driver.switch_to.default_content()"
   ]
  },
  {
   "cell_type": "code",
   "execution_count": 53,
   "metadata": {},
   "outputs": [],
   "source": [
    "driver.quit()"
   ]
  }
 ],
 "metadata": {
  "kernelspec": {
   "display_name": "Python 3",
   "language": "python",
   "name": "python3"
  },
  "language_info": {
   "codemirror_mode": {
    "name": "ipython",
    "version": 3
   },
   "file_extension": ".py",
   "mimetype": "text/x-python",
   "name": "python",
   "nbconvert_exporter": "python",
   "pygments_lexer": "ipython3",
   "version": "3.11.2"
  },
  "orig_nbformat": 4
 },
 "nbformat": 4,
 "nbformat_minor": 2
}
