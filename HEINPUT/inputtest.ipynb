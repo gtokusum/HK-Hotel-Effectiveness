{
 "cells": [
  {
   "cell_type": "code",
   "execution_count": 141,
   "metadata": {},
   "outputs": [],
   "source": [
    "import pandas as pd\n",
    "import selenium\n",
    "from selenium import webdriver\n",
    "from selenium.webdriver.chrome.service import Service as ChromeService\n",
    "from webdriver_manager.chrome import ChromeDriverManager\n",
    "\n",
    "driver = webdriver.Chrome(service=ChromeService(ChromeDriverManager().install()))\n"
   ]
  },
  {
   "cell_type": "code",
   "execution_count": 142,
   "metadata": {},
   "outputs": [],
   "source": [
    "driver.get('https://my.hoteleffectiveness.com/signin')"
   ]
  },
  {
   "cell_type": "code",
   "execution_count": 143,
   "metadata": {},
   "outputs": [],
   "source": [
    "username = driver.find_element('id','myheqa-loginForm-field-username')"
   ]
  },
  {
   "cell_type": "code",
   "execution_count": 144,
   "metadata": {},
   "outputs": [],
   "source": [
    "username.send_keys('gtokusumi')"
   ]
  },
  {
   "cell_type": "code",
   "execution_count": 145,
   "metadata": {},
   "outputs": [],
   "source": [
    "password = driver.find_element('id','myheqa-loginForm-field-password')"
   ]
  },
  {
   "cell_type": "code",
   "execution_count": null,
   "metadata": {},
   "outputs": [],
   "source": [
    "user_password = 'user password'\n",
    "password.send_keys(user_password)"
   ]
  },
  {
   "cell_type": "code",
   "execution_count": 146,
   "metadata": {},
   "outputs": [],
   "source": [
    "loginButton = driver.find_element('id','myheqa-loginForm-button-submit')"
   ]
  },
  {
   "cell_type": "code",
   "execution_count": 147,
   "metadata": {},
   "outputs": [],
   "source": [
    "loginButton.click()"
   ]
  },
  {
   "cell_type": "code",
   "execution_count": 148,
   "metadata": {},
   "outputs": [],
   "source": [
    "startHousekeepingGameDay = driver.find_element('xpath','/html/body/he-root/div/ng-component/div/main/ng-component/ng-component/he-page-body-container/div/he-hotel-view-widgets/div/div/div[1]/div/he-dynamic-component-wrapper/ng-component/div/form/div[3]/a')"
   ]
  },
  {
   "cell_type": "code",
   "execution_count": 149,
   "metadata": {},
   "outputs": [],
   "source": [
    "startHousekeepingGameDay.click()"
   ]
  },
  {
   "cell_type": "code",
   "execution_count": 159,
   "metadata": {},
   "outputs": [],
   "source": [
    "driver.switch_to.default_content()"
   ]
  },
  {
   "cell_type": "code",
   "execution_count": 160,
   "metadata": {},
   "outputs": [
    {
     "ename": "NoSuchElementException",
     "evalue": "Message: no such element: Unable to locate element: {\"method\":\"css selector\",\"selector\":\"[id=\"None\"]\"}\n  (Session info: chrome=112.0.5615.86)\nStacktrace:\nBacktrace:\n\tGetHandleVerifier [0x00A4DCE3+50899]\n\t(No symbol) [0x009DE111]\n\t(No symbol) [0x008E5588]\n\t(No symbol) [0x009108F9]\n\t(No symbol) [0x00910AFB]\n\t(No symbol) [0x0093F902]\n\t(No symbol) [0x0092B944]\n\t(No symbol) [0x0093E01C]\n\t(No symbol) [0x0092B6F6]\n\t(No symbol) [0x00907708]\n\t(No symbol) [0x0090886D]\n\tGetHandleVerifier [0x00CB3EAE+2566302]\n\tGetHandleVerifier [0x00CE92B1+2784417]\n\tGetHandleVerifier [0x00CE327C+2759788]\n\tGetHandleVerifier [0x00AE5740+672048]\n\t(No symbol) [0x009E8872]\n\t(No symbol) [0x009E41C8]\n\t(No symbol) [0x009E42AB]\n\t(No symbol) [0x009D71B7]\n\tBaseThreadInitThunk [0x76630099+25]\n\tRtlGetAppContainerNamedObjectPath [0x77877B6E+286]\n\tRtlGetAppContainerNamedObjectPath [0x77877B3E+238]\n",
     "output_type": "error",
     "traceback": [
      "\u001b[1;31m---------------------------------------------------------------------------\u001b[0m",
      "\u001b[1;31mNoSuchElementException\u001b[0m                    Traceback (most recent call last)",
      "Cell \u001b[1;32mIn[160], line 3\u001b[0m\n\u001b[0;32m      1\u001b[0m driver\u001b[39m.\u001b[39mswitch_to\u001b[39m.\u001b[39mdefault_content()\n\u001b[0;32m      2\u001b[0m driver\u001b[39m.\u001b[39mswitch_to\u001b[39m.\u001b[39mframe(\u001b[39m1\u001b[39m)\n\u001b[1;32m----> 3\u001b[0m driver\u001b[39m.\u001b[39;49mfind_element()\u001b[39m.\u001b[39mclick()\n",
      "File \u001b[1;32mc:\\Users\\GakuTokusumi\\AppData\\Local\\Programs\\Python\\Python311\\Lib\\site-packages\\selenium\\webdriver\\remote\\webdriver.py:831\u001b[0m, in \u001b[0;36mWebDriver.find_element\u001b[1;34m(self, by, value)\u001b[0m\n\u001b[0;32m    828\u001b[0m     by \u001b[39m=\u001b[39m By\u001b[39m.\u001b[39mCSS_SELECTOR\n\u001b[0;32m    829\u001b[0m     value \u001b[39m=\u001b[39m \u001b[39mf\u001b[39m\u001b[39m'\u001b[39m\u001b[39m[name=\u001b[39m\u001b[39m\"\u001b[39m\u001b[39m{\u001b[39;00mvalue\u001b[39m}\u001b[39;00m\u001b[39m\"\u001b[39m\u001b[39m]\u001b[39m\u001b[39m'\u001b[39m\n\u001b[1;32m--> 831\u001b[0m \u001b[39mreturn\u001b[39;00m \u001b[39mself\u001b[39;49m\u001b[39m.\u001b[39;49mexecute(Command\u001b[39m.\u001b[39;49mFIND_ELEMENT, {\u001b[39m\"\u001b[39;49m\u001b[39musing\u001b[39;49m\u001b[39m\"\u001b[39;49m: by, \u001b[39m\"\u001b[39;49m\u001b[39mvalue\u001b[39;49m\u001b[39m\"\u001b[39;49m: value})[\u001b[39m\"\u001b[39m\u001b[39mvalue\u001b[39m\u001b[39m\"\u001b[39m]\n",
      "File \u001b[1;32mc:\\Users\\GakuTokusumi\\AppData\\Local\\Programs\\Python\\Python311\\Lib\\site-packages\\selenium\\webdriver\\remote\\webdriver.py:440\u001b[0m, in \u001b[0;36mWebDriver.execute\u001b[1;34m(self, driver_command, params)\u001b[0m\n\u001b[0;32m    438\u001b[0m response \u001b[39m=\u001b[39m \u001b[39mself\u001b[39m\u001b[39m.\u001b[39mcommand_executor\u001b[39m.\u001b[39mexecute(driver_command, params)\n\u001b[0;32m    439\u001b[0m \u001b[39mif\u001b[39;00m response:\n\u001b[1;32m--> 440\u001b[0m     \u001b[39mself\u001b[39;49m\u001b[39m.\u001b[39;49merror_handler\u001b[39m.\u001b[39;49mcheck_response(response)\n\u001b[0;32m    441\u001b[0m     response[\u001b[39m\"\u001b[39m\u001b[39mvalue\u001b[39m\u001b[39m\"\u001b[39m] \u001b[39m=\u001b[39m \u001b[39mself\u001b[39m\u001b[39m.\u001b[39m_unwrap_value(response\u001b[39m.\u001b[39mget(\u001b[39m\"\u001b[39m\u001b[39mvalue\u001b[39m\u001b[39m\"\u001b[39m, \u001b[39mNone\u001b[39;00m))\n\u001b[0;32m    442\u001b[0m     \u001b[39mreturn\u001b[39;00m response\n",
      "File \u001b[1;32mc:\\Users\\GakuTokusumi\\AppData\\Local\\Programs\\Python\\Python311\\Lib\\site-packages\\selenium\\webdriver\\remote\\errorhandler.py:245\u001b[0m, in \u001b[0;36mErrorHandler.check_response\u001b[1;34m(self, response)\u001b[0m\n\u001b[0;32m    243\u001b[0m         alert_text \u001b[39m=\u001b[39m value[\u001b[39m\"\u001b[39m\u001b[39malert\u001b[39m\u001b[39m\"\u001b[39m]\u001b[39m.\u001b[39mget(\u001b[39m\"\u001b[39m\u001b[39mtext\u001b[39m\u001b[39m\"\u001b[39m)\n\u001b[0;32m    244\u001b[0m     \u001b[39mraise\u001b[39;00m exception_class(message, screen, stacktrace, alert_text)  \u001b[39m# type: ignore[call-arg]  # mypy is not smart enough here\u001b[39;00m\n\u001b[1;32m--> 245\u001b[0m \u001b[39mraise\u001b[39;00m exception_class(message, screen, stacktrace)\n",
      "\u001b[1;31mNoSuchElementException\u001b[0m: Message: no such element: Unable to locate element: {\"method\":\"css selector\",\"selector\":\"[id=\"None\"]\"}\n  (Session info: chrome=112.0.5615.86)\nStacktrace:\nBacktrace:\n\tGetHandleVerifier [0x00A4DCE3+50899]\n\t(No symbol) [0x009DE111]\n\t(No symbol) [0x008E5588]\n\t(No symbol) [0x009108F9]\n\t(No symbol) [0x00910AFB]\n\t(No symbol) [0x0093F902]\n\t(No symbol) [0x0092B944]\n\t(No symbol) [0x0093E01C]\n\t(No symbol) [0x0092B6F6]\n\t(No symbol) [0x00907708]\n\t(No symbol) [0x0090886D]\n\tGetHandleVerifier [0x00CB3EAE+2566302]\n\tGetHandleVerifier [0x00CE92B1+2784417]\n\tGetHandleVerifier [0x00CE327C+2759788]\n\tGetHandleVerifier [0x00AE5740+672048]\n\t(No symbol) [0x009E8872]\n\t(No symbol) [0x009E41C8]\n\t(No symbol) [0x009E42AB]\n\t(No symbol) [0x009D71B7]\n\tBaseThreadInitThunk [0x76630099+25]\n\tRtlGetAppContainerNamedObjectPath [0x77877B6E+286]\n\tRtlGetAppContainerNamedObjectPath [0x77877B3E+238]\n"
     ]
    }
   ],
   "source": [
    "driver.switch_to.default_content()\n",
    "driver.switch_to.frame(1)\n",
    "driver.find_element().click()"
   ]
  },
  {
   "cell_type": "code",
   "execution_count": 176,
   "metadata": {},
   "outputs": [
    {
     "ename": "NoSuchElementException",
     "evalue": "Message: no such element: Unable to locate element: {\"method\":\"css selector\",\"selector\":\"[id=\"receiver\"]\"}\n  (Session info: chrome=112.0.5615.86)\nStacktrace:\nBacktrace:\n\tGetHandleVerifier [0x00A4DCE3+50899]\n\t(No symbol) [0x009DE111]\n\t(No symbol) [0x008E5588]\n\t(No symbol) [0x009108F9]\n\t(No symbol) [0x00910AFB]\n\t(No symbol) [0x0093F902]\n\t(No symbol) [0x0092B944]\n\t(No symbol) [0x0093E01C]\n\t(No symbol) [0x0092B6F6]\n\t(No symbol) [0x00907708]\n\t(No symbol) [0x0090886D]\n\tGetHandleVerifier [0x00CB3EAE+2566302]\n\tGetHandleVerifier [0x00CE92B1+2784417]\n\tGetHandleVerifier [0x00CE327C+2759788]\n\tGetHandleVerifier [0x00AE5740+672048]\n\t(No symbol) [0x009E8872]\n\t(No symbol) [0x009E41C8]\n\t(No symbol) [0x009E42AB]\n\t(No symbol) [0x009D71B7]\n\tBaseThreadInitThunk [0x76630099+25]\n\tRtlGetAppContainerNamedObjectPath [0x77877B6E+286]\n\tRtlGetAppContainerNamedObjectPath [0x77877B3E+238]\n",
     "output_type": "error",
     "traceback": [
      "\u001b[1;31m---------------------------------------------------------------------------\u001b[0m",
      "\u001b[1;31mNoSuchElementException\u001b[0m                    Traceback (most recent call last)",
      "Cell \u001b[1;32mIn[176], line 3\u001b[0m\n\u001b[0;32m      1\u001b[0m driver\u001b[39m.\u001b[39mswitch_to\u001b[39m.\u001b[39mdefault_content()\n\u001b[0;32m      2\u001b[0m driver\u001b[39m.\u001b[39mswitch_to\u001b[39m.\u001b[39mframe(\u001b[39m1\u001b[39m)\n\u001b[1;32m----> 3\u001b[0m driver\u001b[39m.\u001b[39;49mfind_element(\u001b[39m'\u001b[39;49m\u001b[39mid\u001b[39;49m\u001b[39m'\u001b[39;49m, \u001b[39m\"\u001b[39;49m\u001b[39mreceiver\u001b[39;49m\u001b[39m\"\u001b[39;49m)\u001b[39m.\u001b[39mclick()\n\u001b[0;32m      4\u001b[0m driver\u001b[39m.\u001b[39mswitch_to\u001b[39m.\u001b[39mdefault_content()\n",
      "File \u001b[1;32mc:\\Users\\GakuTokusumi\\AppData\\Local\\Programs\\Python\\Python311\\Lib\\site-packages\\selenium\\webdriver\\remote\\webdriver.py:831\u001b[0m, in \u001b[0;36mWebDriver.find_element\u001b[1;34m(self, by, value)\u001b[0m\n\u001b[0;32m    828\u001b[0m     by \u001b[39m=\u001b[39m By\u001b[39m.\u001b[39mCSS_SELECTOR\n\u001b[0;32m    829\u001b[0m     value \u001b[39m=\u001b[39m \u001b[39mf\u001b[39m\u001b[39m'\u001b[39m\u001b[39m[name=\u001b[39m\u001b[39m\"\u001b[39m\u001b[39m{\u001b[39;00mvalue\u001b[39m}\u001b[39;00m\u001b[39m\"\u001b[39m\u001b[39m]\u001b[39m\u001b[39m'\u001b[39m\n\u001b[1;32m--> 831\u001b[0m \u001b[39mreturn\u001b[39;00m \u001b[39mself\u001b[39;49m\u001b[39m.\u001b[39;49mexecute(Command\u001b[39m.\u001b[39;49mFIND_ELEMENT, {\u001b[39m\"\u001b[39;49m\u001b[39musing\u001b[39;49m\u001b[39m\"\u001b[39;49m: by, \u001b[39m\"\u001b[39;49m\u001b[39mvalue\u001b[39;49m\u001b[39m\"\u001b[39;49m: value})[\u001b[39m\"\u001b[39m\u001b[39mvalue\u001b[39m\u001b[39m\"\u001b[39m]\n",
      "File \u001b[1;32mc:\\Users\\GakuTokusumi\\AppData\\Local\\Programs\\Python\\Python311\\Lib\\site-packages\\selenium\\webdriver\\remote\\webdriver.py:440\u001b[0m, in \u001b[0;36mWebDriver.execute\u001b[1;34m(self, driver_command, params)\u001b[0m\n\u001b[0;32m    438\u001b[0m response \u001b[39m=\u001b[39m \u001b[39mself\u001b[39m\u001b[39m.\u001b[39mcommand_executor\u001b[39m.\u001b[39mexecute(driver_command, params)\n\u001b[0;32m    439\u001b[0m \u001b[39mif\u001b[39;00m response:\n\u001b[1;32m--> 440\u001b[0m     \u001b[39mself\u001b[39;49m\u001b[39m.\u001b[39;49merror_handler\u001b[39m.\u001b[39;49mcheck_response(response)\n\u001b[0;32m    441\u001b[0m     response[\u001b[39m\"\u001b[39m\u001b[39mvalue\u001b[39m\u001b[39m\"\u001b[39m] \u001b[39m=\u001b[39m \u001b[39mself\u001b[39m\u001b[39m.\u001b[39m_unwrap_value(response\u001b[39m.\u001b[39mget(\u001b[39m\"\u001b[39m\u001b[39mvalue\u001b[39m\u001b[39m\"\u001b[39m, \u001b[39mNone\u001b[39;00m))\n\u001b[0;32m    442\u001b[0m     \u001b[39mreturn\u001b[39;00m response\n",
      "File \u001b[1;32mc:\\Users\\GakuTokusumi\\AppData\\Local\\Programs\\Python\\Python311\\Lib\\site-packages\\selenium\\webdriver\\remote\\errorhandler.py:245\u001b[0m, in \u001b[0;36mErrorHandler.check_response\u001b[1;34m(self, response)\u001b[0m\n\u001b[0;32m    243\u001b[0m         alert_text \u001b[39m=\u001b[39m value[\u001b[39m\"\u001b[39m\u001b[39malert\u001b[39m\u001b[39m\"\u001b[39m]\u001b[39m.\u001b[39mget(\u001b[39m\"\u001b[39m\u001b[39mtext\u001b[39m\u001b[39m\"\u001b[39m)\n\u001b[0;32m    244\u001b[0m     \u001b[39mraise\u001b[39;00m exception_class(message, screen, stacktrace, alert_text)  \u001b[39m# type: ignore[call-arg]  # mypy is not smart enough here\u001b[39;00m\n\u001b[1;32m--> 245\u001b[0m \u001b[39mraise\u001b[39;00m exception_class(message, screen, stacktrace)\n",
      "\u001b[1;31mNoSuchElementException\u001b[0m: Message: no such element: Unable to locate element: {\"method\":\"css selector\",\"selector\":\"[id=\"receiver\"]\"}\n  (Session info: chrome=112.0.5615.86)\nStacktrace:\nBacktrace:\n\tGetHandleVerifier [0x00A4DCE3+50899]\n\t(No symbol) [0x009DE111]\n\t(No symbol) [0x008E5588]\n\t(No symbol) [0x009108F9]\n\t(No symbol) [0x00910AFB]\n\t(No symbol) [0x0093F902]\n\t(No symbol) [0x0092B944]\n\t(No symbol) [0x0093E01C]\n\t(No symbol) [0x0092B6F6]\n\t(No symbol) [0x00907708]\n\t(No symbol) [0x0090886D]\n\tGetHandleVerifier [0x00CB3EAE+2566302]\n\tGetHandleVerifier [0x00CE92B1+2784417]\n\tGetHandleVerifier [0x00CE327C+2759788]\n\tGetHandleVerifier [0x00AE5740+672048]\n\t(No symbol) [0x009E8872]\n\t(No symbol) [0x009E41C8]\n\t(No symbol) [0x009E42AB]\n\t(No symbol) [0x009D71B7]\n\tBaseThreadInitThunk [0x76630099+25]\n\tRtlGetAppContainerNamedObjectPath [0x77877B6E+286]\n\tRtlGetAppContainerNamedObjectPath [0x77877B3E+238]\n"
     ]
    }
   ],
   "source": [
    "driver.switch_to.default_content()\n",
    "driver.switch_to.frame(1)\n",
    "driver.find_element('id', \"receiver\").click()\n",
    "driver.switch_to.default_content()"
   ]
  },
  {
   "cell_type": "code",
   "execution_count": 173,
   "metadata": {},
   "outputs": [],
   "source": [
    "driver.switch_to.default_content()"
   ]
  },
  {
   "cell_type": "code",
   "execution_count": 175,
   "metadata": {},
   "outputs": [
    {
     "name": "stdout",
     "output_type": "stream",
     "text": [
      "2\n"
     ]
    }
   ],
   "source": [
    "print(len(driver.find_elements('tag name',\"frame\") + driver.find_elements('tag name',\"iframe\")))"
   ]
  },
  {
   "cell_type": "code",
   "execution_count": 177,
   "metadata": {},
   "outputs": [],
   "source": [
    "driver.close()"
   ]
  },
  {
   "cell_type": "code",
   "execution_count": 110,
   "metadata": {},
   "outputs": [],
   "source": [
    "import pytest\n",
    "import time\n",
    "import json\n",
    "from selenium import webdriver\n",
    "from selenium.webdriver.common.by import By\n",
    "from selenium.webdriver.common.action_chains import ActionChains\n",
    "from selenium.webdriver.support import expected_conditions\n",
    "from selenium.webdriver.support.wait import WebDriverWait\n",
    "from selenium.webdriver.common.keys import Keys\n",
    "from selenium.webdriver.common.desired_capabilities import DesiredCapabilities"
   ]
  },
  {
   "cell_type": "code",
   "execution_count": 179,
   "metadata": {},
   "outputs": [],
   "source": [
    "driver.quit()"
   ]
  },
  {
   "cell_type": "code",
   "execution_count": 188,
   "metadata": {},
   "outputs": [
    {
     "ename": "NoSuchFrameException",
     "evalue": "Message: no such frame\n  (Session info: chrome=112.0.5615.86)\nStacktrace:\nBacktrace:\n\tGetHandleVerifier [0x00DFDCE3+50899]\n\t(No symbol) [0x00D8E111]\n\t(No symbol) [0x00C95450]\n\t(No symbol) [0x00C988C9]\n\t(No symbol) [0x00CEF251]\n\t(No symbol) [0x00CDB8FC]\n\t(No symbol) [0x00CEE01C]\n\t(No symbol) [0x00CDB6F6]\n\t(No symbol) [0x00CB7708]\n\t(No symbol) [0x00CB886D]\n\tGetHandleVerifier [0x01063EAE+2566302]\n\tGetHandleVerifier [0x010992B1+2784417]\n\tGetHandleVerifier [0x0109327C+2759788]\n\tGetHandleVerifier [0x00E95740+672048]\n\t(No symbol) [0x00D98872]\n\t(No symbol) [0x00D941C8]\n\t(No symbol) [0x00D942AB]\n\t(No symbol) [0x00D871B7]\n\tBaseThreadInitThunk [0x76630099+25]\n\tRtlGetAppContainerNamedObjectPath [0x77877B6E+286]\n\tRtlGetAppContainerNamedObjectPath [0x77877B3E+238]\n",
     "output_type": "error",
     "traceback": [
      "\u001b[1;31m---------------------------------------------------------------------------\u001b[0m",
      "\u001b[1;31mNoSuchFrameException\u001b[0m                      Traceback (most recent call last)",
      "Cell \u001b[1;32mIn[188], line 11\u001b[0m\n\u001b[0;32m      9\u001b[0m driver\u001b[39m.\u001b[39mfind_element(By\u001b[39m.\u001b[39mXPATH, \u001b[39m\"\u001b[39m\u001b[39m/html/body/he-root/div/ng-component/div/main/ng-component/ng-component/he-page-body-container/div/he-hotel-view-widgets/div/div/div[1]/div/he-dynamic-component-wrapper/ng-component/div/form/div[3]/a\u001b[39m\u001b[39m\"\u001b[39m)\u001b[39m.\u001b[39mclick()\n\u001b[0;32m     10\u001b[0m WebDriverWait(driver,timeout\u001b[39m=\u001b[39m\u001b[39m30\u001b[39m)\u001b[39m.\u001b[39muntil(\u001b[39mlambda\u001b[39;00m d: d\u001b[39m.\u001b[39mfind_element(By\u001b[39m.\u001b[39mTAG_NAME,\u001b[39m'\u001b[39m\u001b[39miframe\u001b[39m\u001b[39m'\u001b[39m))\n\u001b[1;32m---> 11\u001b[0m driver\u001b[39m.\u001b[39;49mswitch_to\u001b[39m.\u001b[39;49mframe(\u001b[39m1\u001b[39;49m)\n\u001b[0;32m     12\u001b[0m driver\u001b[39m.\u001b[39mfind_element(By\u001b[39m.\u001b[39mCSS_SELECTOR, \u001b[39m\"\u001b[39m\u001b[39mtr:nth-child(2) > td > label\u001b[39m\u001b[39m\"\u001b[39m)\u001b[39m.\u001b[39mclick()\n\u001b[0;32m     13\u001b[0m driver\u001b[39m.\u001b[39mfind_element(By\u001b[39m.\u001b[39mID, \u001b[39m\"\u001b[39m\u001b[39mctl00_main_btnGameDaySchedule\u001b[39m\u001b[39m\"\u001b[39m)\u001b[39m.\u001b[39mclick()\n",
      "File \u001b[1;32mc:\\Users\\GakuTokusumi\\AppData\\Local\\Programs\\Python\\Python311\\Lib\\site-packages\\selenium\\webdriver\\remote\\switch_to.py:92\u001b[0m, in \u001b[0;36mSwitchTo.frame\u001b[1;34m(self, frame_reference)\u001b[0m\n\u001b[0;32m     89\u001b[0m         \u001b[39mexcept\u001b[39;00m NoSuchElementException:\n\u001b[0;32m     90\u001b[0m             \u001b[39mraise\u001b[39;00m NoSuchFrameException(frame_reference)\n\u001b[1;32m---> 92\u001b[0m \u001b[39mself\u001b[39;49m\u001b[39m.\u001b[39;49m_driver\u001b[39m.\u001b[39;49mexecute(Command\u001b[39m.\u001b[39;49mSWITCH_TO_FRAME, {\u001b[39m\"\u001b[39;49m\u001b[39mid\u001b[39;49m\u001b[39m\"\u001b[39;49m: frame_reference})\n",
      "File \u001b[1;32mc:\\Users\\GakuTokusumi\\AppData\\Local\\Programs\\Python\\Python311\\Lib\\site-packages\\selenium\\webdriver\\remote\\webdriver.py:440\u001b[0m, in \u001b[0;36mWebDriver.execute\u001b[1;34m(self, driver_command, params)\u001b[0m\n\u001b[0;32m    438\u001b[0m response \u001b[39m=\u001b[39m \u001b[39mself\u001b[39m\u001b[39m.\u001b[39mcommand_executor\u001b[39m.\u001b[39mexecute(driver_command, params)\n\u001b[0;32m    439\u001b[0m \u001b[39mif\u001b[39;00m response:\n\u001b[1;32m--> 440\u001b[0m     \u001b[39mself\u001b[39;49m\u001b[39m.\u001b[39;49merror_handler\u001b[39m.\u001b[39;49mcheck_response(response)\n\u001b[0;32m    441\u001b[0m     response[\u001b[39m\"\u001b[39m\u001b[39mvalue\u001b[39m\u001b[39m\"\u001b[39m] \u001b[39m=\u001b[39m \u001b[39mself\u001b[39m\u001b[39m.\u001b[39m_unwrap_value(response\u001b[39m.\u001b[39mget(\u001b[39m\"\u001b[39m\u001b[39mvalue\u001b[39m\u001b[39m\"\u001b[39m, \u001b[39mNone\u001b[39;00m))\n\u001b[0;32m    442\u001b[0m     \u001b[39mreturn\u001b[39;00m response\n",
      "File \u001b[1;32mc:\\Users\\GakuTokusumi\\AppData\\Local\\Programs\\Python\\Python311\\Lib\\site-packages\\selenium\\webdriver\\remote\\errorhandler.py:245\u001b[0m, in \u001b[0;36mErrorHandler.check_response\u001b[1;34m(self, response)\u001b[0m\n\u001b[0;32m    243\u001b[0m         alert_text \u001b[39m=\u001b[39m value[\u001b[39m\"\u001b[39m\u001b[39malert\u001b[39m\u001b[39m\"\u001b[39m]\u001b[39m.\u001b[39mget(\u001b[39m\"\u001b[39m\u001b[39mtext\u001b[39m\u001b[39m\"\u001b[39m)\n\u001b[0;32m    244\u001b[0m     \u001b[39mraise\u001b[39;00m exception_class(message, screen, stacktrace, alert_text)  \u001b[39m# type: ignore[call-arg]  # mypy is not smart enough here\u001b[39;00m\n\u001b[1;32m--> 245\u001b[0m \u001b[39mraise\u001b[39;00m exception_class(message, screen, stacktrace)\n",
      "\u001b[1;31mNoSuchFrameException\u001b[0m: Message: no such frame\n  (Session info: chrome=112.0.5615.86)\nStacktrace:\nBacktrace:\n\tGetHandleVerifier [0x00DFDCE3+50899]\n\t(No symbol) [0x00D8E111]\n\t(No symbol) [0x00C95450]\n\t(No symbol) [0x00C988C9]\n\t(No symbol) [0x00CEF251]\n\t(No symbol) [0x00CDB8FC]\n\t(No symbol) [0x00CEE01C]\n\t(No symbol) [0x00CDB6F6]\n\t(No symbol) [0x00CB7708]\n\t(No symbol) [0x00CB886D]\n\tGetHandleVerifier [0x01063EAE+2566302]\n\tGetHandleVerifier [0x010992B1+2784417]\n\tGetHandleVerifier [0x0109327C+2759788]\n\tGetHandleVerifier [0x00E95740+672048]\n\t(No symbol) [0x00D98872]\n\t(No symbol) [0x00D941C8]\n\t(No symbol) [0x00D942AB]\n\t(No symbol) [0x00D871B7]\n\tBaseThreadInitThunk [0x76630099+25]\n\tRtlGetAppContainerNamedObjectPath [0x77877B6E+286]\n\tRtlGetAppContainerNamedObjectPath [0x77877B3E+238]\n"
     ]
    }
   ],
   "source": [
    "from selenium.webdriver.support.wait import WebDriverWait\n",
    "driver = webdriver.Chrome()\n",
    "driver.get(\"https://my.hoteleffectiveness.com/signin\")\n",
    "driver.set_window_size(945, 1020)\n",
    "driver.find_element(By.ID, \"myheqa-loginForm-field-username\").send_keys(\"gtokusumi\")\n",
    "driver.find_element(By.ID, \"myheqa-loginForm-field-password\").send_keys(\"password\")\n",
    "driver.find_element(By.ID, \"myheqa-loginForm-button-submit\").click()\n",
    "WebDriverWait(driver,timeout=30).until(lambda d: d.find_element(By.XPATH,\"/html/body/he-root/div/ng-component/div/main/ng-component/ng-component/he-page-body-container/div/he-hotel-view-widgets/div/div/div[1]/div/he-dynamic-component-wrapper/ng-component/div/form/div[3]/a\"))\n",
    "driver.find_element(By.XPATH, \"/html/body/he-root/div/ng-component/div/main/ng-component/ng-component/he-page-body-container/div/he-hotel-view-widgets/div/div/div[1]/div/he-dynamic-component-wrapper/ng-component/div/form/div[3]/a\").click()\n",
    "WebDriverWait(driver,timeout=30).until(lambda d: d.find_element(By.TAG_NAME,'iframe'))\n",
    "driver.switch_to.frame(1)\n",
    "driver.find_element(By.CSS_SELECTOR, \"tr:nth-child(2) > td > label\").click()\n",
    "driver.find_element(By.ID, \"ctl00_main_btnGameDaySchedule\").click()\n",
    "driver.switch_to.default_content()\n",
    "driver.switch_to.frame(1)\n",
    "driver.find_element(By.ID, \"ctl00_main_hLinkSaveContinue\").click()\n",
    "driver.switch_to.default_content()"
   ]
  },
  {
   "cell_type": "code",
   "execution_count": 189,
   "metadata": {},
   "outputs": [],
   "source": [
    "driver.quit()"
   ]
  },
  {
   "cell_type": "code",
   "execution_count": null,
   "metadata": {},
   "outputs": [],
   "source": []
  }
 ],
 "metadata": {
  "kernelspec": {
   "display_name": "Python 3",
   "language": "python",
   "name": "python3"
  },
  "language_info": {
   "codemirror_mode": {
    "name": "ipython",
    "version": 3
   },
   "file_extension": ".py",
   "mimetype": "text/x-python",
   "name": "python",
   "nbconvert_exporter": "python",
   "pygments_lexer": "ipython3",
   "version": "3.11.2"
  },
  "orig_nbformat": 4
 },
 "nbformat": 4,
 "nbformat_minor": 2
}
