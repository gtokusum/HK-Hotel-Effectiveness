{
 "cells": [
  {
   "attachments": {},
   "cell_type": "markdown",
   "metadata": {},
   "source": [
    "# Test file to outline input of values into housekeeping gameday table"
   ]
  },
  {
   "attachments": {},
   "cell_type": "markdown",
   "metadata": {},
   "source": [
    "Dependencies: \n",
    "* pandas\n",
    "* selenium\n",
    "* selenium webdriver\n",
    "* chrome driver manager"
   ]
  },
  {
   "cell_type": "code",
   "execution_count": 4,
   "metadata": {},
   "outputs": [
    {
     "ename": "NameError",
     "evalue": "name 'ChromeService' is not defined",
     "output_type": "error",
     "traceback": [
      "\u001b[1;31m---------------------------------------------------------------------------\u001b[0m",
      "\u001b[1;31mNameError\u001b[0m                                 Traceback (most recent call last)",
      "Cell \u001b[1;32mIn[4], line 15\u001b[0m\n\u001b[0;32m     12\u001b[0m \u001b[39mfrom\u001b[39;00m \u001b[39mselenium\u001b[39;00m\u001b[39m.\u001b[39;00m\u001b[39mwebdriver\u001b[39;00m\u001b[39m.\u001b[39;00m\u001b[39mcommon\u001b[39;00m\u001b[39m.\u001b[39;00m\u001b[39mdesired_capabilities\u001b[39;00m \u001b[39mimport\u001b[39;00m DesiredCapabilities\n\u001b[0;32m     14\u001b[0m \u001b[39m# uncomment below to install chrome driver manager\u001b[39;00m\n\u001b[1;32m---> 15\u001b[0m driver \u001b[39m=\u001b[39m webdriver\u001b[39m.\u001b[39mChrome(service\u001b[39m=\u001b[39mChromeService(ChromeDriverManager()\u001b[39m.\u001b[39minstall()))\n",
      "\u001b[1;31mNameError\u001b[0m: name 'ChromeService' is not defined"
     ]
    }
   ],
   "source": [
    "# import pytest\n",
    "import pandas as pd\n",
    "import time\n",
    "import json\n",
    "import selenium\n",
    "from selenium import webdriver\n",
    "from selenium.webdriver.common.by import By\n",
    "from selenium.webdriver.common.action_chains import ActionChains\n",
    "from selenium.webdriver.support import expected_conditions\n",
    "from selenium.webdriver.support.wait import WebDriverWait\n",
    "from selenium.webdriver.common.keys import Keys\n",
    "from selenium.webdriver.common.desired_capabilities import DesiredCapabilities\n",
    "\n",
    "# uncomment below to install chrome driver manager\n",
    "# driver = webdriver.Chrome(service=ChromeService(ChromeDriverManager().install()))"
   ]
  },
  {
   "cell_type": "code",
   "execution_count": 3,
   "metadata": {},
   "outputs": [
    {
     "ename": "SessionNotCreatedException",
     "evalue": "Message: session not created: This version of ChromeDriver only supports Chrome version 114\nCurrent browser version is 116.0.5845.111 with binary path C:\\Program Files\\Google\\Chrome\\Application\\chrome.exe\nStacktrace:\nBacktrace:\n\tGetHandleVerifier [0x00C1A813+48355]\n\t(No symbol) [0x00BAC4B1]\n\t(No symbol) [0x00AB5358]\n\t(No symbol) [0x00AD61AC]\n\t(No symbol) [0x00AD1EF3]\n\t(No symbol) [0x00AD0579]\n\t(No symbol) [0x00B00C55]\n\t(No symbol) [0x00B0093C]\n\t(No symbol) [0x00AFA536]\n\t(No symbol) [0x00AD82DC]\n\t(No symbol) [0x00AD93DD]\n\tGetHandleVerifier [0x00E7AABD+2539405]\n\tGetHandleVerifier [0x00EBA78F+2800735]\n\tGetHandleVerifier [0x00EB456C+2775612]\n\tGetHandleVerifier [0x00CA51E0+616112]\n\t(No symbol) [0x00BB5F8C]\n\t(No symbol) [0x00BB2328]\n\t(No symbol) [0x00BB240B]\n\t(No symbol) [0x00BA4FF7]\n\tBaseThreadInitThunk [0x75AB00C9+25]\n\tRtlGetAppContainerNamedObjectPath [0x77527B1E+286]\n\tRtlGetAppContainerNamedObjectPath [0x77527AEE+238]\n",
     "output_type": "error",
     "traceback": [
      "\u001b[1;31m---------------------------------------------------------------------------\u001b[0m",
      "\u001b[1;31mSessionNotCreatedException\u001b[0m                Traceback (most recent call last)",
      "Cell \u001b[1;32mIn[3], line 1\u001b[0m\n\u001b[1;32m----> 1\u001b[0m driver \u001b[39m=\u001b[39m webdriver\u001b[39m.\u001b[39;49mChrome()\n",
      "File \u001b[1;32mc:\\Users\\GakuTokusumi\\AppData\\Local\\Programs\\Python\\Python311\\Lib\\site-packages\\selenium\\webdriver\\chrome\\webdriver.py:84\u001b[0m, in \u001b[0;36mWebDriver.__init__\u001b[1;34m(self, executable_path, port, options, service_args, desired_capabilities, service_log_path, chrome_options, service, keep_alive)\u001b[0m\n\u001b[0;32m     81\u001b[0m     service \u001b[39m=\u001b[39m Service(executable_path, port, service_args, service_log_path)\n\u001b[0;32m     82\u001b[0m service\u001b[39m.\u001b[39mpath \u001b[39m=\u001b[39m DriverFinder\u001b[39m.\u001b[39mget_path(service, options)\n\u001b[1;32m---> 84\u001b[0m \u001b[39msuper\u001b[39;49m()\u001b[39m.\u001b[39;49m\u001b[39m__init__\u001b[39;49m(\n\u001b[0;32m     85\u001b[0m     DesiredCapabilities\u001b[39m.\u001b[39;49mCHROME[\u001b[39m\"\u001b[39;49m\u001b[39mbrowserName\u001b[39;49m\u001b[39m\"\u001b[39;49m],\n\u001b[0;32m     86\u001b[0m     \u001b[39m\"\u001b[39;49m\u001b[39mgoog\u001b[39;49m\u001b[39m\"\u001b[39;49m,\n\u001b[0;32m     87\u001b[0m     port,\n\u001b[0;32m     88\u001b[0m     options,\n\u001b[0;32m     89\u001b[0m     service_args,\n\u001b[0;32m     90\u001b[0m     desired_capabilities,\n\u001b[0;32m     91\u001b[0m     service_log_path,\n\u001b[0;32m     92\u001b[0m     service,\n\u001b[0;32m     93\u001b[0m     keep_alive,\n\u001b[0;32m     94\u001b[0m )\n",
      "File \u001b[1;32mc:\\Users\\GakuTokusumi\\AppData\\Local\\Programs\\Python\\Python311\\Lib\\site-packages\\selenium\\webdriver\\chromium\\webdriver.py:104\u001b[0m, in \u001b[0;36mChromiumDriver.__init__\u001b[1;34m(self, browser_name, vendor_prefix, port, options, service_args, desired_capabilities, service_log_path, service, keep_alive)\u001b[0m\n\u001b[0;32m    101\u001b[0m \u001b[39mself\u001b[39m\u001b[39m.\u001b[39mservice\u001b[39m.\u001b[39mstart()\n\u001b[0;32m    103\u001b[0m \u001b[39mtry\u001b[39;00m:\n\u001b[1;32m--> 104\u001b[0m     \u001b[39msuper\u001b[39;49m()\u001b[39m.\u001b[39;49m\u001b[39m__init__\u001b[39;49m(\n\u001b[0;32m    105\u001b[0m         command_executor\u001b[39m=\u001b[39;49mChromiumRemoteConnection(\n\u001b[0;32m    106\u001b[0m             remote_server_addr\u001b[39m=\u001b[39;49m\u001b[39mself\u001b[39;49m\u001b[39m.\u001b[39;49mservice\u001b[39m.\u001b[39;49mservice_url,\n\u001b[0;32m    107\u001b[0m             browser_name\u001b[39m=\u001b[39;49mbrowser_name,\n\u001b[0;32m    108\u001b[0m             vendor_prefix\u001b[39m=\u001b[39;49mvendor_prefix,\n\u001b[0;32m    109\u001b[0m             keep_alive\u001b[39m=\u001b[39;49mkeep_alive,\n\u001b[0;32m    110\u001b[0m             ignore_proxy\u001b[39m=\u001b[39;49m_ignore_proxy,\n\u001b[0;32m    111\u001b[0m         ),\n\u001b[0;32m    112\u001b[0m         options\u001b[39m=\u001b[39;49moptions,\n\u001b[0;32m    113\u001b[0m     )\n\u001b[0;32m    114\u001b[0m \u001b[39mexcept\u001b[39;00m \u001b[39mException\u001b[39;00m:\n\u001b[0;32m    115\u001b[0m     \u001b[39mself\u001b[39m\u001b[39m.\u001b[39mquit()\n",
      "File \u001b[1;32mc:\\Users\\GakuTokusumi\\AppData\\Local\\Programs\\Python\\Python311\\Lib\\site-packages\\selenium\\webdriver\\remote\\webdriver.py:286\u001b[0m, in \u001b[0;36mWebDriver.__init__\u001b[1;34m(self, command_executor, desired_capabilities, browser_profile, proxy, keep_alive, file_detector, options)\u001b[0m\n\u001b[0;32m    284\u001b[0m \u001b[39mself\u001b[39m\u001b[39m.\u001b[39m_authenticator_id \u001b[39m=\u001b[39m \u001b[39mNone\u001b[39;00m\n\u001b[0;32m    285\u001b[0m \u001b[39mself\u001b[39m\u001b[39m.\u001b[39mstart_client()\n\u001b[1;32m--> 286\u001b[0m \u001b[39mself\u001b[39;49m\u001b[39m.\u001b[39;49mstart_session(capabilities, browser_profile)\n",
      "File \u001b[1;32mc:\\Users\\GakuTokusumi\\AppData\\Local\\Programs\\Python\\Python311\\Lib\\site-packages\\selenium\\webdriver\\remote\\webdriver.py:378\u001b[0m, in \u001b[0;36mWebDriver.start_session\u001b[1;34m(self, capabilities, browser_profile)\u001b[0m\n\u001b[0;32m    376\u001b[0m w3c_caps \u001b[39m=\u001b[39m _make_w3c_caps(capabilities)\n\u001b[0;32m    377\u001b[0m parameters \u001b[39m=\u001b[39m {\u001b[39m\"\u001b[39m\u001b[39mcapabilities\u001b[39m\u001b[39m\"\u001b[39m: w3c_caps}\n\u001b[1;32m--> 378\u001b[0m response \u001b[39m=\u001b[39m \u001b[39mself\u001b[39;49m\u001b[39m.\u001b[39;49mexecute(Command\u001b[39m.\u001b[39;49mNEW_SESSION, parameters)\n\u001b[0;32m    379\u001b[0m \u001b[39mif\u001b[39;00m \u001b[39m\"\u001b[39m\u001b[39msessionId\u001b[39m\u001b[39m\"\u001b[39m \u001b[39mnot\u001b[39;00m \u001b[39min\u001b[39;00m response:\n\u001b[0;32m    380\u001b[0m     response \u001b[39m=\u001b[39m response[\u001b[39m\"\u001b[39m\u001b[39mvalue\u001b[39m\u001b[39m\"\u001b[39m]\n",
      "File \u001b[1;32mc:\\Users\\GakuTokusumi\\AppData\\Local\\Programs\\Python\\Python311\\Lib\\site-packages\\selenium\\webdriver\\remote\\webdriver.py:440\u001b[0m, in \u001b[0;36mWebDriver.execute\u001b[1;34m(self, driver_command, params)\u001b[0m\n\u001b[0;32m    438\u001b[0m response \u001b[39m=\u001b[39m \u001b[39mself\u001b[39m\u001b[39m.\u001b[39mcommand_executor\u001b[39m.\u001b[39mexecute(driver_command, params)\n\u001b[0;32m    439\u001b[0m \u001b[39mif\u001b[39;00m response:\n\u001b[1;32m--> 440\u001b[0m     \u001b[39mself\u001b[39;49m\u001b[39m.\u001b[39;49merror_handler\u001b[39m.\u001b[39;49mcheck_response(response)\n\u001b[0;32m    441\u001b[0m     response[\u001b[39m\"\u001b[39m\u001b[39mvalue\u001b[39m\u001b[39m\"\u001b[39m] \u001b[39m=\u001b[39m \u001b[39mself\u001b[39m\u001b[39m.\u001b[39m_unwrap_value(response\u001b[39m.\u001b[39mget(\u001b[39m\"\u001b[39m\u001b[39mvalue\u001b[39m\u001b[39m\"\u001b[39m, \u001b[39mNone\u001b[39;00m))\n\u001b[0;32m    442\u001b[0m     \u001b[39mreturn\u001b[39;00m response\n",
      "File \u001b[1;32mc:\\Users\\GakuTokusumi\\AppData\\Local\\Programs\\Python\\Python311\\Lib\\site-packages\\selenium\\webdriver\\remote\\errorhandler.py:245\u001b[0m, in \u001b[0;36mErrorHandler.check_response\u001b[1;34m(self, response)\u001b[0m\n\u001b[0;32m    243\u001b[0m         alert_text \u001b[39m=\u001b[39m value[\u001b[39m\"\u001b[39m\u001b[39malert\u001b[39m\u001b[39m\"\u001b[39m]\u001b[39m.\u001b[39mget(\u001b[39m\"\u001b[39m\u001b[39mtext\u001b[39m\u001b[39m\"\u001b[39m)\n\u001b[0;32m    244\u001b[0m     \u001b[39mraise\u001b[39;00m exception_class(message, screen, stacktrace, alert_text)  \u001b[39m# type: ignore[call-arg]  # mypy is not smart enough here\u001b[39;00m\n\u001b[1;32m--> 245\u001b[0m \u001b[39mraise\u001b[39;00m exception_class(message, screen, stacktrace)\n",
      "\u001b[1;31mSessionNotCreatedException\u001b[0m: Message: session not created: This version of ChromeDriver only supports Chrome version 114\nCurrent browser version is 116.0.5845.111 with binary path C:\\Program Files\\Google\\Chrome\\Application\\chrome.exe\nStacktrace:\nBacktrace:\n\tGetHandleVerifier [0x00C1A813+48355]\n\t(No symbol) [0x00BAC4B1]\n\t(No symbol) [0x00AB5358]\n\t(No symbol) [0x00AD61AC]\n\t(No symbol) [0x00AD1EF3]\n\t(No symbol) [0x00AD0579]\n\t(No symbol) [0x00B00C55]\n\t(No symbol) [0x00B0093C]\n\t(No symbol) [0x00AFA536]\n\t(No symbol) [0x00AD82DC]\n\t(No symbol) [0x00AD93DD]\n\tGetHandleVerifier [0x00E7AABD+2539405]\n\tGetHandleVerifier [0x00EBA78F+2800735]\n\tGetHandleVerifier [0x00EB456C+2775612]\n\tGetHandleVerifier [0x00CA51E0+616112]\n\t(No symbol) [0x00BB5F8C]\n\t(No symbol) [0x00BB2328]\n\t(No symbol) [0x00BB240B]\n\t(No symbol) [0x00BA4FF7]\n\tBaseThreadInitThunk [0x75AB00C9+25]\n\tRtlGetAppContainerNamedObjectPath [0x77527B1E+286]\n\tRtlGetAppContainerNamedObjectPath [0x77527AEE+238]\n"
     ]
    }
   ],
   "source": [
    "driver = webdriver.Chrome()"
   ]
  },
  {
   "attachments": {},
   "cell_type": "markdown",
   "metadata": {},
   "source": [
    "Function to open the housekeeping gameday table"
   ]
  },
  {
   "cell_type": "code",
   "execution_count": null,
   "metadata": {},
   "outputs": [],
   "source": [
    "# from selenium.webdriver.support.wait import WebDriverWait\n",
    "# driver = webdriver.Chrome()\n",
    "driver.get(\"https://my.hoteleffectiveness.com/signin\")\n",
    "driver.set_window_size(945, 1020)\n",
    "driver.find_element(By.ID, \"myheqa-loginForm-field-username\").send_keys(\"gtokusumi\") #username\n",
    "driver.find_element(By.ID, \"myheqa-loginForm-field-password\").send_keys(\"password\") #password\n",
    "driver.find_element(By.ID, \"myheqa-loginForm-button-submit\").click() #click on log in button\n",
    "\n",
    "# waits until it finds link to housekeeping gameday set up page. once found click it\n",
    "WebDriverWait(driver,timeout=30).until(lambda d: d.find_element(By.XPATH,\"/html/body/he-root/div/ng-component/div/main/ng-component/ng-component/he-page-body-container/div/he-hotel-view-widgets/div/div/div[1]/div/he-dynamic-component-wrapper/ng-component/div/form/div[3]/a\")) #waits until start game day button\n",
    "driver.find_element(By.XPATH, \"/html/body/he-root/div/ng-component/div/main/ng-component/ng-component/he-page-body-container/div/he-hotel-view-widgets/div/div/div[1]/div/he-dynamic-component-wrapper/ng-component/div/form/div[3]/a\").click() #click start gameday button\n",
    "\n",
    "# waits for the receiver frame to be found then switches to it to click on 'Show Only Scheduled Room Attendants'\n",
    "WebDriverWait(driver,timeout=30).until(expected_conditions.frame_to_be_available_and_switch_to_it((By.ID,'receiver')))\n",
    "driver.switch_to.default_content()\n",
    "# driver.implicitly_wait(15) #uncomment if needed. \n",
    "driver.switch_to.frame('receiver') #swtich frame to receiver \n",
    "WebDriverWait(driver,timeout=30).until(lambda d: d.find_element(By.ID,'ctl00_main_rlHskpList')) #wait until it locates table that includes the button for only scheduled attendants\n",
    "table = driver.find_element(By.ID,'ctl00_main_rlHskpList') #find table and save as table variable\n",
    "table.find_element(By.ID, \"ctl00_main_rlHskpList_1\").click() #find radio button and click\n",
    "driver.find_element(By.NAME, \"ctl00$main$btnGameDaySchedule\").click() #go to gameday grid\n",
    "\n",
    "driver.switch_to.default_content() #switches back to default content"
   ]
  },
  {
   "attachments": {},
   "cell_type": "markdown",
   "metadata": {},
   "source": [
    "Function to input data into table <br>\n",
    "grid is set up where the last 4 numbers of the element ID points to a specific cell. ex. 1101 <br>\n",
    "first 2 numbers identify the column and the last 2 numbers identify the row starting at 0. <br>\n",
    "1101 would point to the (2,1)"
   ]
  },
  {
   "cell_type": "code",
   "execution_count": null,
   "metadata": {},
   "outputs": [],
   "source": [
    "from random import randint # for now using random numbers will just need to pull the data from dataframe\n",
    "empNum = 8 # number of employees for the given day. Can be pulled from the dataframe\n",
    "driver.switch_to.frame('receiver') #swtich to frame with grid\n",
    "grid = driver.find_element(By.ID,'ctl00_main_tblGameDaySchedule') # finds grid and saves as variable\n",
    "\n",
    "# will loop through each cell and input value\n",
    "for j in range(0,empNum): # row value\n",
    "    for i in range(2,6): # column calue\n",
    "        grid.find_element(By.ID, f'ctl00_main_txtScheduleDetail1{i}0{j}').send_keys(randint(0,10))\n",
    "\n",
    "#switch back to default content\n",
    "driver.switch_to.default_content()"
   ]
  },
  {
   "cell_type": "code",
   "execution_count": 4,
   "metadata": {},
   "outputs": [],
   "source": [
    "driver.switch_to.frame('receiver') # swtiches back to reciever frame\n",
    "driver.find_element(By.ID,'ctl00_main_rdExportExcel').click() #finds the radio button to download an excel file of the grid, uncomment if not needed\n",
    "driver.find_element(By.ID,'ctl00_main_hLinkSaveContinue').click() # finds the save button and clicks on it.\n",
    "driver.switch_to.default_content()"
   ]
  },
  {
   "cell_type": "code",
   "execution_count": 8,
   "metadata": {},
   "outputs": [],
   "source": [
    "driver.quit()"
   ]
  }
 ],
 "metadata": {
  "kernelspec": {
   "display_name": "Python 3",
   "language": "python",
   "name": "python3"
  },
  "language_info": {
   "codemirror_mode": {
    "name": "ipython",
    "version": 3
   },
   "file_extension": ".py",
   "mimetype": "text/x-python",
   "name": "python",
   "nbconvert_exporter": "python",
   "pygments_lexer": "ipython3",
   "version": "3.11.3"
  },
  "orig_nbformat": 4,
  "vscode": {
   "interpreter": {
    "hash": "dd6af6ccd4424a411d3b8ccceb6f0d6de9338981e4b2732ce0b6ba42015a23f7"
   }
  }
 },
 "nbformat": 4,
 "nbformat_minor": 2
}
