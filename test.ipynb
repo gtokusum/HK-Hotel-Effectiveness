{
 "cells": [
  {
   "cell_type": "code",
   "execution_count": 1,
   "metadata": {},
   "outputs": [],
   "source": [
    "import pandas as pd\n",
    "import numpy as np\n",
    "import openpyxl as pxl\n",
    "import tabula\n",
    "import os\n",
    "import lxml"
   ]
  },
  {
   "attachments": {},
   "cell_type": "markdown",
   "metadata": {},
   "source": [
    "Grabbing Data"
   ]
  },
  {
   "cell_type": "code",
   "execution_count": 2,
   "metadata": {},
   "outputs": [
    {
     "name": "stderr",
     "output_type": "stream",
     "text": [
      "c:\\Users\\Gaku Tokusumi\\AppData\\Local\\Programs\\Python\\Python310\\lib\\site-packages\\openpyxl\\styles\\stylesheet.py:226: UserWarning: Workbook contains no default style, apply openpyxl's default\n",
      "  warn(\"Workbook contains no default style, apply openpyxl's default\")\n"
     ]
    }
   ],
   "source": [
    "x = pd.read_excel(\"Test Sheet.xlsx\")"
   ]
  },
  {
   "cell_type": "code",
   "execution_count": 3,
   "metadata": {},
   "outputs": [
    {
     "data": {
      "text/html": [
       "<div>\n",
       "<style scoped>\n",
       "    .dataframe tbody tr th:only-of-type {\n",
       "        vertical-align: middle;\n",
       "    }\n",
       "\n",
       "    .dataframe tbody tr th {\n",
       "        vertical-align: top;\n",
       "    }\n",
       "\n",
       "    .dataframe thead th {\n",
       "        text-align: right;\n",
       "    }\n",
       "</style>\n",
       "<table border=\"1\" class=\"dataframe\">\n",
       "  <thead>\n",
       "    <tr style=\"text-align: right;\">\n",
       "      <th></th>\n",
       "      <th>Room</th>\n",
       "      <th>Room Type</th>\n",
       "      <th>Floor</th>\n",
       "      <th>Employee Assigned</th>\n",
       "      <th>Room Points</th>\n",
       "      <th>Front Desk Status</th>\n",
       "      <th>Housekeeping Status</th>\n",
       "      <th>Room Status</th>\n",
       "      <th>Pre-Registered</th>\n",
       "      <th>Service Type</th>\n",
       "      <th>...</th>\n",
       "      <th>Last Cleaned</th>\n",
       "      <th>Points Adjustment</th>\n",
       "      <th>Employee Total Rooms</th>\n",
       "      <th>Employee Total Points</th>\n",
       "      <th>Last Name</th>\n",
       "      <th>First Name</th>\n",
       "      <th>Action</th>\n",
       "      <th>Scheduled Return Time</th>\n",
       "      <th>Cleaning Start Time</th>\n",
       "      <th>Cleaning End Time</th>\n",
       "    </tr>\n",
       "  </thead>\n",
       "  <tbody>\n",
       "    <tr>\n",
       "      <th>0</th>\n",
       "      <td>304</td>\n",
       "      <td>GK</td>\n",
       "      <td>03rd Floor</td>\n",
       "      <td>Johana</td>\n",
       "      <td>3</td>\n",
       "      <td>Occupied</td>\n",
       "      <td>Occupied</td>\n",
       "      <td>Dirty</td>\n",
       "      <td>NO</td>\n",
       "      <td>Light</td>\n",
       "      <td>...</td>\n",
       "      <td>2023-03-09 15:32:00</td>\n",
       "      <td>0.0</td>\n",
       "      <td>24</td>\n",
       "      <td>108</td>\n",
       "      <td>Gupta</td>\n",
       "      <td>Mayank</td>\n",
       "      <td>NaN</td>\n",
       "      <td>NaN</td>\n",
       "      <td>NaN</td>\n",
       "      <td>NaN</td>\n",
       "    </tr>\n",
       "    <tr>\n",
       "      <th>1</th>\n",
       "      <td>305</td>\n",
       "      <td>GK</td>\n",
       "      <td>03rd Floor</td>\n",
       "      <td>Johana</td>\n",
       "      <td>6</td>\n",
       "      <td>Vacant</td>\n",
       "      <td>Vacant</td>\n",
       "      <td>Dirty</td>\n",
       "      <td>NO</td>\n",
       "      <td>Check-Out</td>\n",
       "      <td>...</td>\n",
       "      <td>2023-03-08 13:37:00</td>\n",
       "      <td>0.0</td>\n",
       "      <td>24</td>\n",
       "      <td>108</td>\n",
       "      <td>NaN</td>\n",
       "      <td>NaN</td>\n",
       "      <td>NaN</td>\n",
       "      <td>NaN</td>\n",
       "      <td>NaN</td>\n",
       "      <td>NaN</td>\n",
       "    </tr>\n",
       "    <tr>\n",
       "      <th>2</th>\n",
       "      <td>306</td>\n",
       "      <td>GK</td>\n",
       "      <td>03rd Floor</td>\n",
       "      <td>Johana</td>\n",
       "      <td>3</td>\n",
       "      <td>Occupied</td>\n",
       "      <td>Occupied</td>\n",
       "      <td>Dirty</td>\n",
       "      <td>NO</td>\n",
       "      <td>Light</td>\n",
       "      <td>...</td>\n",
       "      <td>2023-03-08 12:23:00</td>\n",
       "      <td>0.0</td>\n",
       "      <td>24</td>\n",
       "      <td>108</td>\n",
       "      <td>Izidoro Ferreira da Costa</td>\n",
       "      <td>Andre</td>\n",
       "      <td>NaN</td>\n",
       "      <td>NaN</td>\n",
       "      <td>NaN</td>\n",
       "      <td>NaN</td>\n",
       "    </tr>\n",
       "    <tr>\n",
       "      <th>3</th>\n",
       "      <td>307</td>\n",
       "      <td>DCGQQ</td>\n",
       "      <td>03rd Floor</td>\n",
       "      <td>Johana</td>\n",
       "      <td>7</td>\n",
       "      <td>Occupied</td>\n",
       "      <td>Occupied</td>\n",
       "      <td>Dirty</td>\n",
       "      <td>NO</td>\n",
       "      <td>Check-Out</td>\n",
       "      <td>...</td>\n",
       "      <td>2023-03-09 15:30:00</td>\n",
       "      <td>0.0</td>\n",
       "      <td>24</td>\n",
       "      <td>108</td>\n",
       "      <td>Bellissimo</td>\n",
       "      <td>Cinzia</td>\n",
       "      <td>NaN</td>\n",
       "      <td>NaN</td>\n",
       "      <td>NaN</td>\n",
       "      <td>NaN</td>\n",
       "    </tr>\n",
       "    <tr>\n",
       "      <th>4</th>\n",
       "      <td>309</td>\n",
       "      <td>GK</td>\n",
       "      <td>03rd Floor</td>\n",
       "      <td>Johana</td>\n",
       "      <td>3</td>\n",
       "      <td>Occupied</td>\n",
       "      <td>Occupied</td>\n",
       "      <td>Dirty</td>\n",
       "      <td>NO</td>\n",
       "      <td>Light</td>\n",
       "      <td>...</td>\n",
       "      <td>2023-03-09 12:57:00</td>\n",
       "      <td>0.0</td>\n",
       "      <td>24</td>\n",
       "      <td>108</td>\n",
       "      <td>Brennan</td>\n",
       "      <td>Nicholas</td>\n",
       "      <td>NaN</td>\n",
       "      <td>NaN</td>\n",
       "      <td>NaN</td>\n",
       "      <td>NaN</td>\n",
       "    </tr>\n",
       "  </tbody>\n",
       "</table>\n",
       "<p>5 rows × 31 columns</p>\n",
       "</div>"
      ],
      "text/plain": [
       "   Room Room Type       Floor Employee Assigned  Room Points  \\\n",
       "0   304        GK  03rd Floor            Johana            3   \n",
       "1   305        GK  03rd Floor            Johana            6   \n",
       "2   306        GK  03rd Floor            Johana            3   \n",
       "3   307     DCGQQ  03rd Floor            Johana            7   \n",
       "4   309        GK  03rd Floor            Johana            3   \n",
       "\n",
       "  Front Desk Status Housekeeping Status Room Status Pre-Registered  \\\n",
       "0          Occupied            Occupied       Dirty             NO   \n",
       "1            Vacant              Vacant       Dirty             NO   \n",
       "2          Occupied            Occupied       Dirty             NO   \n",
       "3          Occupied            Occupied       Dirty             NO   \n",
       "4          Occupied            Occupied       Dirty             NO   \n",
       "\n",
       "  Service Type  ...        Last Cleaned  Points Adjustment  \\\n",
       "0        Light  ... 2023-03-09 15:32:00                0.0   \n",
       "1    Check-Out  ... 2023-03-08 13:37:00                0.0   \n",
       "2        Light  ... 2023-03-08 12:23:00                0.0   \n",
       "3    Check-Out  ... 2023-03-09 15:30:00                0.0   \n",
       "4        Light  ... 2023-03-09 12:57:00                0.0   \n",
       "\n",
       "  Employee Total Rooms Employee Total Points                  Last Name  \\\n",
       "0                   24                   108                      Gupta   \n",
       "1                   24                   108                        NaN   \n",
       "2                   24                   108  Izidoro Ferreira da Costa   \n",
       "3                   24                   108                 Bellissimo   \n",
       "4                   24                   108                    Brennan   \n",
       "\n",
       "  First Name Action  Scheduled Return Time  Cleaning Start Time  \\\n",
       "0     Mayank    NaN                    NaN                  NaN   \n",
       "1        NaN    NaN                    NaN                  NaN   \n",
       "2      Andre    NaN                    NaN                  NaN   \n",
       "3     Cinzia    NaN                    NaN                  NaN   \n",
       "4   Nicholas    NaN                    NaN                  NaN   \n",
       "\n",
       "  Cleaning End Time  \n",
       "0               NaN  \n",
       "1               NaN  \n",
       "2               NaN  \n",
       "3               NaN  \n",
       "4               NaN  \n",
       "\n",
       "[5 rows x 31 columns]"
      ]
     },
     "execution_count": 3,
     "metadata": {},
     "output_type": "execute_result"
    }
   ],
   "source": [
    "x.head()"
   ]
  },
  {
   "cell_type": "code",
   "execution_count": 5,
   "metadata": {},
   "outputs": [
    {
     "name": "stdout",
     "output_type": "stream",
     "text": [
      "<class 'pandas.core.frame.DataFrame'>\n",
      "RangeIndex: 128 entries, 0 to 127\n",
      "Data columns (total 31 columns):\n",
      " #   Column                 Non-Null Count  Dtype         \n",
      "---  ------                 --------------  -----         \n",
      " 0   Room                   128 non-null    int64         \n",
      " 1   Room Type              128 non-null    object        \n",
      " 2   Floor                  128 non-null    object        \n",
      " 3   Employee Assigned      128 non-null    object        \n",
      " 4   Room Points            126 non-null    float64       \n",
      " 5   Front Desk Status      128 non-null    object        \n",
      " 6   Housekeeping Status    128 non-null    object        \n",
      " 7   Room Status            128 non-null    object        \n",
      " 8   Pre-Registered         128 non-null    object        \n",
      " 9   Service Type           128 non-null    object        \n",
      " 10  VIP                    4 non-null      object        \n",
      " 11  Next Arrival Date      7 non-null      datetime64[ns]\n",
      " 12  Next Arrival Time      1 non-null      object        \n",
      " 13  Arrival Date           94 non-null     datetime64[ns]\n",
      " 14  Arrival Time           0 non-null      float64       \n",
      " 15  Departure Date         94 non-null     datetime64[ns]\n",
      " 16  Departure Time         1 non-null      object        \n",
      " 17  Turndown Time          0 non-null      float64       \n",
      " 18  Cleaning Time          0 non-null      float64       \n",
      " 19  Room Type Name         128 non-null    object        \n",
      " 20  Room Description       128 non-null    object        \n",
      " 21  Last Cleaned           126 non-null    datetime64[ns]\n",
      " 22  Points Adjustment      128 non-null    int64         \n",
      " 23  Employee Total Rooms   128 non-null    int64         \n",
      " 24  Employee Total Points  128 non-null    int64         \n",
      " 25  Last Name              94 non-null     object        \n",
      " 26  First Name             94 non-null     object        \n",
      " 27  Action                 6 non-null      object        \n",
      " 28  Scheduled Return Time  0 non-null      float64       \n",
      " 29  Cleaning Start Time    4 non-null      object        \n",
      " 30  Cleaning End Time      0 non-null      float64       \n",
      "dtypes: datetime64[ns](4), float64(6), int64(4), object(17)\n",
      "memory usage: 31.1+ KB\n"
     ]
    }
   ],
   "source": [
    " x.info()"
   ]
  },
  {
   "cell_type": "code",
   "execution_count": 6,
   "metadata": {},
   "outputs": [
    {
     "data": {
      "text/plain": [
       "128"
      ]
     },
     "execution_count": 6,
     "metadata": {},
     "output_type": "execute_result"
    }
   ],
   "source": [
    "len(x)"
   ]
  },
  {
   "cell_type": "code",
   "execution_count": 11,
   "metadata": {},
   "outputs": [
    {
     "data": {
      "text/html": [
       "<div>\n",
       "<style scoped>\n",
       "    .dataframe tbody tr th:only-of-type {\n",
       "        vertical-align: middle;\n",
       "    }\n",
       "\n",
       "    .dataframe tbody tr th {\n",
       "        vertical-align: top;\n",
       "    }\n",
       "\n",
       "    .dataframe thead th {\n",
       "        text-align: right;\n",
       "    }\n",
       "</style>\n",
       "<table border=\"1\" class=\"dataframe\">\n",
       "  <thead>\n",
       "    <tr style=\"text-align: right;\">\n",
       "      <th></th>\n",
       "      <th>Room Type</th>\n",
       "      <th>VIP</th>\n",
       "      <th>Room Points</th>\n",
       "      <th>Service Type</th>\n",
       "    </tr>\n",
       "  </thead>\n",
       "  <tbody>\n",
       "    <tr>\n",
       "      <th>0</th>\n",
       "      <td>GK</td>\n",
       "      <td>NaN</td>\n",
       "      <td>6.0</td>\n",
       "      <td>Check-Out</td>\n",
       "    </tr>\n",
       "    <tr>\n",
       "      <th>1</th>\n",
       "      <td>GK</td>\n",
       "      <td>NaN</td>\n",
       "      <td>6.0</td>\n",
       "      <td>Check-Out</td>\n",
       "    </tr>\n",
       "    <tr>\n",
       "      <th>2</th>\n",
       "      <td>GK</td>\n",
       "      <td>NaN</td>\n",
       "      <td>6.0</td>\n",
       "      <td>Check-Out</td>\n",
       "    </tr>\n",
       "    <tr>\n",
       "      <th>3</th>\n",
       "      <td>GK</td>\n",
       "      <td>NaN</td>\n",
       "      <td>6.0</td>\n",
       "      <td>Check-Out</td>\n",
       "    </tr>\n",
       "    <tr>\n",
       "      <th>4</th>\n",
       "      <td>GK</td>\n",
       "      <td>NaN</td>\n",
       "      <td>6.0</td>\n",
       "      <td>Check-Out</td>\n",
       "    </tr>\n",
       "    <tr>\n",
       "      <th>...</th>\n",
       "      <td>...</td>\n",
       "      <td>...</td>\n",
       "      <td>...</td>\n",
       "      <td>...</td>\n",
       "    </tr>\n",
       "    <tr>\n",
       "      <th>123</th>\n",
       "      <td>GQQ</td>\n",
       "      <td>NaN</td>\n",
       "      <td>4.0</td>\n",
       "      <td>Light</td>\n",
       "    </tr>\n",
       "    <tr>\n",
       "      <th>124</th>\n",
       "      <td>GQQ</td>\n",
       "      <td>NaN</td>\n",
       "      <td>4.0</td>\n",
       "      <td>Light</td>\n",
       "    </tr>\n",
       "    <tr>\n",
       "      <th>125</th>\n",
       "      <td>GK</td>\n",
       "      <td>NaN</td>\n",
       "      <td>3.0</td>\n",
       "      <td>Light</td>\n",
       "    </tr>\n",
       "    <tr>\n",
       "      <th>126</th>\n",
       "      <td>STE2</td>\n",
       "      <td>Heads Up</td>\n",
       "      <td>8.0</td>\n",
       "      <td>Light</td>\n",
       "    </tr>\n",
       "    <tr>\n",
       "      <th>127</th>\n",
       "      <td>STE2</td>\n",
       "      <td>NaN</td>\n",
       "      <td>8.0</td>\n",
       "      <td>Light</td>\n",
       "    </tr>\n",
       "  </tbody>\n",
       "</table>\n",
       "<p>128 rows × 4 columns</p>\n",
       "</div>"
      ],
      "text/plain": [
       "    Room Type       VIP  Room Points Service Type\n",
       "0          GK       NaN          6.0    Check-Out\n",
       "1          GK       NaN          6.0    Check-Out\n",
       "2          GK       NaN          6.0    Check-Out\n",
       "3          GK       NaN          6.0    Check-Out\n",
       "4          GK       NaN          6.0    Check-Out\n",
       "..        ...       ...          ...          ...\n",
       "123       GQQ       NaN          4.0        Light\n",
       "124       GQQ       NaN          4.0        Light\n",
       "125        GK       NaN          3.0        Light\n",
       "126      STE2  Heads Up          8.0        Light\n",
       "127      STE2       NaN          8.0        Light\n",
       "\n",
       "[128 rows x 4 columns]"
      ]
     },
     "execution_count": 11,
     "metadata": {},
     "output_type": "execute_result"
    }
   ],
   "source": [
    "x[['Room Type','Room Points','Service Type']]"
   ]
  },
  {
   "attachments": {},
   "cell_type": "markdown",
   "metadata": {},
   "source": [
    "Cleaing Data"
   ]
  },
  {
   "cell_type": "code",
   "execution_count": 4,
   "metadata": {},
   "outputs": [],
   "source": [
    "df = x[['Room Type','Employee Assigned','Room Points','Service Type','Action']]"
   ]
  },
  {
   "cell_type": "code",
   "execution_count": 5,
   "metadata": {},
   "outputs": [
    {
     "data": {
      "text/html": [
       "<div>\n",
       "<style scoped>\n",
       "    .dataframe tbody tr th:only-of-type {\n",
       "        vertical-align: middle;\n",
       "    }\n",
       "\n",
       "    .dataframe tbody tr th {\n",
       "        vertical-align: top;\n",
       "    }\n",
       "\n",
       "    .dataframe thead th {\n",
       "        text-align: right;\n",
       "    }\n",
       "</style>\n",
       "<table border=\"1\" class=\"dataframe\">\n",
       "  <thead>\n",
       "    <tr style=\"text-align: right;\">\n",
       "      <th></th>\n",
       "      <th>Room Type</th>\n",
       "      <th>Employee Assigned</th>\n",
       "      <th>Room Points</th>\n",
       "      <th>Service Type</th>\n",
       "      <th>Action</th>\n",
       "    </tr>\n",
       "  </thead>\n",
       "  <tbody>\n",
       "    <tr>\n",
       "      <th>0</th>\n",
       "      <td>GK</td>\n",
       "      <td>Johana</td>\n",
       "      <td>3</td>\n",
       "      <td>Light</td>\n",
       "      <td>NaN</td>\n",
       "    </tr>\n",
       "    <tr>\n",
       "      <th>1</th>\n",
       "      <td>GK</td>\n",
       "      <td>Johana</td>\n",
       "      <td>6</td>\n",
       "      <td>Check-Out</td>\n",
       "      <td>NaN</td>\n",
       "    </tr>\n",
       "    <tr>\n",
       "      <th>2</th>\n",
       "      <td>GK</td>\n",
       "      <td>Johana</td>\n",
       "      <td>3</td>\n",
       "      <td>Light</td>\n",
       "      <td>NaN</td>\n",
       "    </tr>\n",
       "    <tr>\n",
       "      <th>3</th>\n",
       "      <td>DCGQQ</td>\n",
       "      <td>Johana</td>\n",
       "      <td>7</td>\n",
       "      <td>Check-Out</td>\n",
       "      <td>NaN</td>\n",
       "    </tr>\n",
       "    <tr>\n",
       "      <th>4</th>\n",
       "      <td>GK</td>\n",
       "      <td>Johana</td>\n",
       "      <td>3</td>\n",
       "      <td>Light</td>\n",
       "      <td>NaN</td>\n",
       "    </tr>\n",
       "    <tr>\n",
       "      <th>...</th>\n",
       "      <td>...</td>\n",
       "      <td>...</td>\n",
       "      <td>...</td>\n",
       "      <td>...</td>\n",
       "      <td>...</td>\n",
       "    </tr>\n",
       "    <tr>\n",
       "      <th>133</th>\n",
       "      <td>GQQ</td>\n",
       "      <td>Emir</td>\n",
       "      <td>4</td>\n",
       "      <td>Light</td>\n",
       "      <td>NaN</td>\n",
       "    </tr>\n",
       "    <tr>\n",
       "      <th>134</th>\n",
       "      <td>GQQ</td>\n",
       "      <td>Emir</td>\n",
       "      <td>4</td>\n",
       "      <td>Light</td>\n",
       "      <td>NaN</td>\n",
       "    </tr>\n",
       "    <tr>\n",
       "      <th>135</th>\n",
       "      <td>GQQ</td>\n",
       "      <td>Emir</td>\n",
       "      <td>7</td>\n",
       "      <td>Check-Out</td>\n",
       "      <td>NaN</td>\n",
       "    </tr>\n",
       "    <tr>\n",
       "      <th>136</th>\n",
       "      <td>GQQ</td>\n",
       "      <td>Emir</td>\n",
       "      <td>4</td>\n",
       "      <td>Light</td>\n",
       "      <td>NaN</td>\n",
       "    </tr>\n",
       "    <tr>\n",
       "      <th>137</th>\n",
       "      <td>GK</td>\n",
       "      <td>Emir</td>\n",
       "      <td>3</td>\n",
       "      <td>Light</td>\n",
       "      <td>NaN</td>\n",
       "    </tr>\n",
       "  </tbody>\n",
       "</table>\n",
       "<p>138 rows × 5 columns</p>\n",
       "</div>"
      ],
      "text/plain": [
       "    Room Type Employee Assigned  Room Points Service Type Action\n",
       "0          GK            Johana            3        Light    NaN\n",
       "1          GK            Johana            6    Check-Out    NaN\n",
       "2          GK            Johana            3        Light    NaN\n",
       "3       DCGQQ            Johana            7    Check-Out    NaN\n",
       "4          GK            Johana            3        Light    NaN\n",
       "..        ...               ...          ...          ...    ...\n",
       "133       GQQ              Emir            4        Light    NaN\n",
       "134       GQQ              Emir            4        Light    NaN\n",
       "135       GQQ              Emir            7    Check-Out    NaN\n",
       "136       GQQ              Emir            4        Light    NaN\n",
       "137        GK              Emir            3        Light    NaN\n",
       "\n",
       "[138 rows x 5 columns]"
      ]
     },
     "execution_count": 5,
     "metadata": {},
     "output_type": "execute_result"
    }
   ],
   "source": [
    "df"
   ]
  },
  {
   "cell_type": "code",
   "execution_count": 40,
   "metadata": {},
   "outputs": [],
   "source": [
    "names = df['Employee Assigned'].unique()"
   ]
  },
  {
   "cell_type": "code",
   "execution_count": 30,
   "metadata": {},
   "outputs": [
    {
     "data": {
      "text/plain": [
       "numpy.ndarray"
      ]
     },
     "execution_count": 30,
     "metadata": {},
     "output_type": "execute_result"
    }
   ],
   "source": [
    "type(names)"
   ]
  },
  {
   "cell_type": "code",
   "execution_count": 31,
   "metadata": {},
   "outputs": [],
   "source": [
    "names = np.ndarray.tolist(names)"
   ]
  },
  {
   "cell_type": "code",
   "execution_count": 32,
   "metadata": {},
   "outputs": [
    {
     "data": {
      "text/plain": [
       "list"
      ]
     },
     "execution_count": 32,
     "metadata": {},
     "output_type": "execute_result"
    }
   ],
   "source": [
    "type(names)"
   ]
  },
  {
   "attachments": {},
   "cell_type": "markdown",
   "metadata": {},
   "source": [
    "Set index"
   ]
  },
  {
   "cell_type": "code",
   "execution_count": 33,
   "metadata": {},
   "outputs": [],
   "source": [
    "df.set_index('Employee Assigned',inplace=True)"
   ]
  },
  {
   "cell_type": "code",
   "execution_count": 34,
   "metadata": {},
   "outputs": [
    {
     "data": {
      "text/html": [
       "<div>\n",
       "<style scoped>\n",
       "    .dataframe tbody tr th:only-of-type {\n",
       "        vertical-align: middle;\n",
       "    }\n",
       "\n",
       "    .dataframe tbody tr th {\n",
       "        vertical-align: top;\n",
       "    }\n",
       "\n",
       "    .dataframe thead th {\n",
       "        text-align: right;\n",
       "    }\n",
       "</style>\n",
       "<table border=\"1\" class=\"dataframe\">\n",
       "  <thead>\n",
       "    <tr style=\"text-align: right;\">\n",
       "      <th></th>\n",
       "      <th>Room Type</th>\n",
       "      <th>Room Points</th>\n",
       "      <th>Service Type</th>\n",
       "      <th>Action</th>\n",
       "    </tr>\n",
       "    <tr>\n",
       "      <th>Employee Assigned</th>\n",
       "      <th></th>\n",
       "      <th></th>\n",
       "      <th></th>\n",
       "      <th></th>\n",
       "    </tr>\n",
       "  </thead>\n",
       "  <tbody>\n",
       "    <tr>\n",
       "      <th>Johana</th>\n",
       "      <td>GK</td>\n",
       "      <td>6.0</td>\n",
       "      <td>Check-Out</td>\n",
       "      <td>NaN</td>\n",
       "    </tr>\n",
       "    <tr>\n",
       "      <th>Johana</th>\n",
       "      <td>GK</td>\n",
       "      <td>6.0</td>\n",
       "      <td>Check-Out</td>\n",
       "      <td>NaN</td>\n",
       "    </tr>\n",
       "    <tr>\n",
       "      <th>Johana</th>\n",
       "      <td>GK</td>\n",
       "      <td>6.0</td>\n",
       "      <td>Check-Out</td>\n",
       "      <td>NaN</td>\n",
       "    </tr>\n",
       "    <tr>\n",
       "      <th>Johana</th>\n",
       "      <td>GK</td>\n",
       "      <td>6.0</td>\n",
       "      <td>Check-Out</td>\n",
       "      <td>NaN</td>\n",
       "    </tr>\n",
       "    <tr>\n",
       "      <th>Johana</th>\n",
       "      <td>GK</td>\n",
       "      <td>6.0</td>\n",
       "      <td>Check-Out</td>\n",
       "      <td>NaN</td>\n",
       "    </tr>\n",
       "    <tr>\n",
       "      <th>...</th>\n",
       "      <td>...</td>\n",
       "      <td>...</td>\n",
       "      <td>...</td>\n",
       "      <td>...</td>\n",
       "    </tr>\n",
       "    <tr>\n",
       "      <th>Julio</th>\n",
       "      <td>GQQ</td>\n",
       "      <td>4.0</td>\n",
       "      <td>Light</td>\n",
       "      <td>NaN</td>\n",
       "    </tr>\n",
       "    <tr>\n",
       "      <th>Julio</th>\n",
       "      <td>GQQ</td>\n",
       "      <td>4.0</td>\n",
       "      <td>Light</td>\n",
       "      <td>NaN</td>\n",
       "    </tr>\n",
       "    <tr>\n",
       "      <th>Julio</th>\n",
       "      <td>GK</td>\n",
       "      <td>3.0</td>\n",
       "      <td>Light</td>\n",
       "      <td>NaN</td>\n",
       "    </tr>\n",
       "    <tr>\n",
       "      <th>Julio</th>\n",
       "      <td>STE2</td>\n",
       "      <td>8.0</td>\n",
       "      <td>Light</td>\n",
       "      <td>NaN</td>\n",
       "    </tr>\n",
       "    <tr>\n",
       "      <th>Julio</th>\n",
       "      <td>STE2</td>\n",
       "      <td>8.0</td>\n",
       "      <td>Light</td>\n",
       "      <td>NaN</td>\n",
       "    </tr>\n",
       "  </tbody>\n",
       "</table>\n",
       "<p>128 rows × 4 columns</p>\n",
       "</div>"
      ],
      "text/plain": [
       "                  Room Type  Room Points Service Type Action\n",
       "Employee Assigned                                           \n",
       "Johana                   GK          6.0    Check-Out    NaN\n",
       "Johana                   GK          6.0    Check-Out    NaN\n",
       "Johana                   GK          6.0    Check-Out    NaN\n",
       "Johana                   GK          6.0    Check-Out    NaN\n",
       "Johana                   GK          6.0    Check-Out    NaN\n",
       "...                     ...          ...          ...    ...\n",
       "Julio                   GQQ          4.0        Light    NaN\n",
       "Julio                   GQQ          4.0        Light    NaN\n",
       "Julio                    GK          3.0        Light    NaN\n",
       "Julio                  STE2          8.0        Light    NaN\n",
       "Julio                  STE2          8.0        Light    NaN\n",
       "\n",
       "[128 rows x 4 columns]"
      ]
     },
     "execution_count": 34,
     "metadata": {},
     "output_type": "execute_result"
    }
   ],
   "source": [
    "df"
   ]
  },
  {
   "attachments": {},
   "cell_type": "markdown",
   "metadata": {},
   "source": [
    "Adding names to excel sheet"
   ]
  },
  {
   "cell_type": "code",
   "execution_count": 35,
   "metadata": {},
   "outputs": [],
   "source": [
    "wb = pxl.Workbook()"
   ]
  },
  {
   "cell_type": "code",
   "execution_count": 36,
   "metadata": {},
   "outputs": [],
   "source": [
    "sheet = wb.active"
   ]
  },
  {
   "attachments": {},
   "cell_type": "markdown",
   "metadata": {},
   "source": [
    "Working function\n",
    "need to find a way to add workload"
   ]
  },
  {
   "cell_type": "code",
   "execution_count": 51,
   "metadata": {},
   "outputs": [],
   "source": [
    "from openpyxl.utils.dataframe import dataframe_to_rows\n",
    "lstname = pd.DataFrame(np.ndarray.tolist(names))\n",
    "rows = dataframe_to_rows(lstname)\n",
    "for r_idx,row in enumerate(rows,1):\n",
    "    for c_idx,value in enumerate(row,1):\n",
    "        sheet.cell(row=r_idx,column=c_idx,value=value)\n",
    "wb.save(\"testbook.xlsx\")"
   ]
  },
  {
   "cell_type": "code",
   "execution_count": 46,
   "metadata": {},
   "outputs": [
    {
     "data": {
      "text/html": [
       "<div>\n",
       "<style scoped>\n",
       "    .dataframe tbody tr th:only-of-type {\n",
       "        vertical-align: middle;\n",
       "    }\n",
       "\n",
       "    .dataframe tbody tr th {\n",
       "        vertical-align: top;\n",
       "    }\n",
       "\n",
       "    .dataframe thead th {\n",
       "        text-align: right;\n",
       "    }\n",
       "</style>\n",
       "<table border=\"1\" class=\"dataframe\">\n",
       "  <thead>\n",
       "    <tr style=\"text-align: right;\">\n",
       "      <th></th>\n",
       "      <th>0</th>\n",
       "    </tr>\n",
       "  </thead>\n",
       "  <tbody>\n",
       "    <tr>\n",
       "      <th>0</th>\n",
       "      <td>Johana</td>\n",
       "    </tr>\n",
       "    <tr>\n",
       "      <th>1</th>\n",
       "      <td>Alexander</td>\n",
       "    </tr>\n",
       "    <tr>\n",
       "      <th>2</th>\n",
       "      <td>Cheyenne</td>\n",
       "    </tr>\n",
       "    <tr>\n",
       "      <th>3</th>\n",
       "      <td>Shae</td>\n",
       "    </tr>\n",
       "    <tr>\n",
       "      <th>4</th>\n",
       "      <td>Nestor</td>\n",
       "    </tr>\n",
       "    <tr>\n",
       "      <th>5</th>\n",
       "      <td>Emir</td>\n",
       "    </tr>\n",
       "    <tr>\n",
       "      <th>6</th>\n",
       "      <td>Mariana</td>\n",
       "    </tr>\n",
       "    <tr>\n",
       "      <th>7</th>\n",
       "      <td>Jasmine</td>\n",
       "    </tr>\n",
       "    <tr>\n",
       "      <th>8</th>\n",
       "      <td>Julio</td>\n",
       "    </tr>\n",
       "    <tr>\n",
       "      <th>9</th>\n",
       "      <td>Andrea A</td>\n",
       "    </tr>\n",
       "  </tbody>\n",
       "</table>\n",
       "</div>"
      ],
      "text/plain": [
       "           0\n",
       "0     Johana\n",
       "1  Alexander\n",
       "2   Cheyenne\n",
       "3       Shae\n",
       "4     Nestor\n",
       "5       Emir\n",
       "6    Mariana\n",
       "7    Jasmine\n",
       "8      Julio\n",
       "9   Andrea A"
      ]
     },
     "execution_count": 46,
     "metadata": {},
     "output_type": "execute_result"
    }
   ],
   "source": [
    "lstname"
   ]
  },
  {
   "attachments": {},
   "cell_type": "markdown",
   "metadata": {},
   "source": [
    "Calculating workload"
   ]
  },
  {
   "cell_type": "code",
   "execution_count": 57,
   "metadata": {},
   "outputs": [
    {
     "data": {
      "text/html": [
       "<div>\n",
       "<style scoped>\n",
       "    .dataframe tbody tr th:only-of-type {\n",
       "        vertical-align: middle;\n",
       "    }\n",
       "\n",
       "    .dataframe tbody tr th {\n",
       "        vertical-align: top;\n",
       "    }\n",
       "\n",
       "    .dataframe thead th {\n",
       "        text-align: right;\n",
       "    }\n",
       "</style>\n",
       "<table border=\"1\" class=\"dataframe\">\n",
       "  <thead>\n",
       "    <tr style=\"text-align: right;\">\n",
       "      <th></th>\n",
       "      <th>Room Type</th>\n",
       "      <th>Employee Assigned</th>\n",
       "      <th>Room Points</th>\n",
       "      <th>Service Type</th>\n",
       "      <th>Action</th>\n",
       "    </tr>\n",
       "  </thead>\n",
       "  <tbody>\n",
       "    <tr>\n",
       "      <th>0</th>\n",
       "      <td>GK</td>\n",
       "      <td>Johana</td>\n",
       "      <td>6.0</td>\n",
       "      <td>Check-Out</td>\n",
       "      <td>NaN</td>\n",
       "    </tr>\n",
       "    <tr>\n",
       "      <th>1</th>\n",
       "      <td>GK</td>\n",
       "      <td>Johana</td>\n",
       "      <td>6.0</td>\n",
       "      <td>Check-Out</td>\n",
       "      <td>NaN</td>\n",
       "    </tr>\n",
       "    <tr>\n",
       "      <th>2</th>\n",
       "      <td>GK</td>\n",
       "      <td>Johana</td>\n",
       "      <td>6.0</td>\n",
       "      <td>Check-Out</td>\n",
       "      <td>NaN</td>\n",
       "    </tr>\n",
       "    <tr>\n",
       "      <th>3</th>\n",
       "      <td>GK</td>\n",
       "      <td>Johana</td>\n",
       "      <td>6.0</td>\n",
       "      <td>Check-Out</td>\n",
       "      <td>NaN</td>\n",
       "    </tr>\n",
       "    <tr>\n",
       "      <th>4</th>\n",
       "      <td>GK</td>\n",
       "      <td>Johana</td>\n",
       "      <td>6.0</td>\n",
       "      <td>Check-Out</td>\n",
       "      <td>NaN</td>\n",
       "    </tr>\n",
       "    <tr>\n",
       "      <th>...</th>\n",
       "      <td>...</td>\n",
       "      <td>...</td>\n",
       "      <td>...</td>\n",
       "      <td>...</td>\n",
       "      <td>...</td>\n",
       "    </tr>\n",
       "    <tr>\n",
       "      <th>123</th>\n",
       "      <td>GQQ</td>\n",
       "      <td>Julio</td>\n",
       "      <td>4.0</td>\n",
       "      <td>Light</td>\n",
       "      <td>NaN</td>\n",
       "    </tr>\n",
       "    <tr>\n",
       "      <th>124</th>\n",
       "      <td>GQQ</td>\n",
       "      <td>Julio</td>\n",
       "      <td>4.0</td>\n",
       "      <td>Light</td>\n",
       "      <td>NaN</td>\n",
       "    </tr>\n",
       "    <tr>\n",
       "      <th>125</th>\n",
       "      <td>GK</td>\n",
       "      <td>Julio</td>\n",
       "      <td>3.0</td>\n",
       "      <td>Light</td>\n",
       "      <td>NaN</td>\n",
       "    </tr>\n",
       "    <tr>\n",
       "      <th>126</th>\n",
       "      <td>STE2</td>\n",
       "      <td>Julio</td>\n",
       "      <td>8.0</td>\n",
       "      <td>Light</td>\n",
       "      <td>NaN</td>\n",
       "    </tr>\n",
       "    <tr>\n",
       "      <th>127</th>\n",
       "      <td>STE2</td>\n",
       "      <td>Julio</td>\n",
       "      <td>8.0</td>\n",
       "      <td>Light</td>\n",
       "      <td>NaN</td>\n",
       "    </tr>\n",
       "  </tbody>\n",
       "</table>\n",
       "<p>128 rows × 5 columns</p>\n",
       "</div>"
      ],
      "text/plain": [
       "    Room Type Employee Assigned  Room Points Service Type Action\n",
       "0          GK            Johana          6.0    Check-Out    NaN\n",
       "1          GK            Johana          6.0    Check-Out    NaN\n",
       "2          GK            Johana          6.0    Check-Out    NaN\n",
       "3          GK            Johana          6.0    Check-Out    NaN\n",
       "4          GK            Johana          6.0    Check-Out    NaN\n",
       "..        ...               ...          ...          ...    ...\n",
       "123       GQQ             Julio          4.0        Light    NaN\n",
       "124       GQQ             Julio          4.0        Light    NaN\n",
       "125        GK             Julio          3.0        Light    NaN\n",
       "126      STE2             Julio          8.0        Light    NaN\n",
       "127      STE2             Julio          8.0        Light    NaN\n",
       "\n",
       "[128 rows x 5 columns]"
      ]
     },
     "execution_count": 57,
     "metadata": {},
     "output_type": "execute_result"
    }
   ],
   "source": [
    "df"
   ]
  },
  {
   "attachments": {},
   "cell_type": "markdown",
   "metadata": {},
   "source": [
    "Room type "
   ]
  },
  {
   "cell_type": "code",
   "execution_count": 6,
   "metadata": {},
   "outputs": [],
   "source": [
    "roomCount = {'King Checkout':0,'King Stayover':0,'Queen Checkout':0,'Queen Stayover':0}\n",
    "# roomCountPrime = {} Use to create dictionary for all room types"
   ]
  },
  {
   "cell_type": "code",
   "execution_count": 7,
   "metadata": {},
   "outputs": [],
   "source": [
    "x = df.sort_values(by='Employee Assigned')"
   ]
  },
  {
   "cell_type": "code",
   "execution_count": 59,
   "metadata": {},
   "outputs": [
    {
     "data": {
      "text/html": [
       "<div>\n",
       "<style scoped>\n",
       "    .dataframe tbody tr th:only-of-type {\n",
       "        vertical-align: middle;\n",
       "    }\n",
       "\n",
       "    .dataframe tbody tr th {\n",
       "        vertical-align: top;\n",
       "    }\n",
       "\n",
       "    .dataframe thead th {\n",
       "        text-align: right;\n",
       "    }\n",
       "</style>\n",
       "<table border=\"1\" class=\"dataframe\">\n",
       "  <thead>\n",
       "    <tr style=\"text-align: right;\">\n",
       "      <th></th>\n",
       "      <th>Room Type</th>\n",
       "      <th>Employee Assigned</th>\n",
       "      <th>Room Points</th>\n",
       "      <th>Service Type</th>\n",
       "      <th>Action</th>\n",
       "    </tr>\n",
       "  </thead>\n",
       "  <tbody>\n",
       "    <tr>\n",
       "      <th>63</th>\n",
       "      <td>GQQ</td>\n",
       "      <td>Alexander</td>\n",
       "      <td>4.0</td>\n",
       "      <td>Light</td>\n",
       "      <td>NaN</td>\n",
       "    </tr>\n",
       "    <tr>\n",
       "      <th>67</th>\n",
       "      <td>SGQQ</td>\n",
       "      <td>Alexander</td>\n",
       "      <td>7.0</td>\n",
       "      <td>Light</td>\n",
       "      <td>NaN</td>\n",
       "    </tr>\n",
       "    <tr>\n",
       "      <th>66</th>\n",
       "      <td>GQQ</td>\n",
       "      <td>Alexander</td>\n",
       "      <td>4.0</td>\n",
       "      <td>Light</td>\n",
       "      <td>NaN</td>\n",
       "    </tr>\n",
       "    <tr>\n",
       "      <th>65</th>\n",
       "      <td>GK</td>\n",
       "      <td>Alexander</td>\n",
       "      <td>3.0</td>\n",
       "      <td>Light</td>\n",
       "      <td>NaN</td>\n",
       "    </tr>\n",
       "    <tr>\n",
       "      <th>64</th>\n",
       "      <td>GQQ</td>\n",
       "      <td>Alexander</td>\n",
       "      <td>4.0</td>\n",
       "      <td>Light</td>\n",
       "      <td>NaN</td>\n",
       "    </tr>\n",
       "    <tr>\n",
       "      <th>...</th>\n",
       "      <td>...</td>\n",
       "      <td>...</td>\n",
       "      <td>...</td>\n",
       "      <td>...</td>\n",
       "      <td>...</td>\n",
       "    </tr>\n",
       "    <tr>\n",
       "      <th>75</th>\n",
       "      <td>GQQ</td>\n",
       "      <td>Shae</td>\n",
       "      <td>4.0</td>\n",
       "      <td>Light</td>\n",
       "      <td>NaN</td>\n",
       "    </tr>\n",
       "    <tr>\n",
       "      <th>74</th>\n",
       "      <td>GQQ</td>\n",
       "      <td>Shae</td>\n",
       "      <td>4.0</td>\n",
       "      <td>Light</td>\n",
       "      <td>NaN</td>\n",
       "    </tr>\n",
       "    <tr>\n",
       "      <th>73</th>\n",
       "      <td>GQQ</td>\n",
       "      <td>Shae</td>\n",
       "      <td>4.0</td>\n",
       "      <td>Light</td>\n",
       "      <td>NaN</td>\n",
       "    </tr>\n",
       "    <tr>\n",
       "      <th>68</th>\n",
       "      <td>GK</td>\n",
       "      <td>Shae</td>\n",
       "      <td>3.0</td>\n",
       "      <td>Light</td>\n",
       "      <td>NaN</td>\n",
       "    </tr>\n",
       "    <tr>\n",
       "      <th>17</th>\n",
       "      <td>ASJQQ</td>\n",
       "      <td>Shae</td>\n",
       "      <td>7.0</td>\n",
       "      <td>Check-Out</td>\n",
       "      <td>NaN</td>\n",
       "    </tr>\n",
       "  </tbody>\n",
       "</table>\n",
       "<p>128 rows × 5 columns</p>\n",
       "</div>"
      ],
      "text/plain": [
       "   Room Type Employee Assigned  Room Points Service Type Action\n",
       "63       GQQ         Alexander          4.0        Light    NaN\n",
       "67      SGQQ         Alexander          7.0        Light    NaN\n",
       "66       GQQ         Alexander          4.0        Light    NaN\n",
       "65        GK         Alexander          3.0        Light    NaN\n",
       "64       GQQ         Alexander          4.0        Light    NaN\n",
       "..       ...               ...          ...          ...    ...\n",
       "75       GQQ              Shae          4.0        Light    NaN\n",
       "74       GQQ              Shae          4.0        Light    NaN\n",
       "73       GQQ              Shae          4.0        Light    NaN\n",
       "68        GK              Shae          3.0        Light    NaN\n",
       "17     ASJQQ              Shae          7.0    Check-Out    NaN\n",
       "\n",
       "[128 rows x 5 columns]"
      ]
     },
     "execution_count": 59,
     "metadata": {},
     "output_type": "execute_result"
    }
   ],
   "source": [
    "x"
   ]
  },
  {
   "attachments": {},
   "cell_type": "markdown",
   "metadata": {},
   "source": [
    "slices dataframe by employee"
   ]
  },
  {
   "cell_type": "code",
   "execution_count": 8,
   "metadata": {},
   "outputs": [],
   "source": [
    "cleaned = dict(tuple(x.groupby(\"Employee Assigned\")))"
   ]
  },
  {
   "cell_type": "code",
   "execution_count": 35,
   "metadata": {},
   "outputs": [
    {
     "name": "stdout",
     "output_type": "stream",
     "text": [
      "Alexander\n",
      "Cheyenne\n",
      "Emir\n",
      "Float Board\n",
      "Hung Board\n",
      "Johana\n",
      "Mariana\n",
      "Shae\n"
     ]
    }
   ],
   "source": [
    "for i in list(cleaned):\n",
    "    print(i)"
   ]
  },
  {
   "attachments": {},
   "cell_type": "markdown",
   "metadata": {},
   "source": [
    "Way to get names "
   ]
  },
  {
   "cell_type": "code",
   "execution_count": 11,
   "metadata": {},
   "outputs": [
    {
     "name": "stdout",
     "output_type": "stream",
     "text": [
      "['Alexander', 'Cheyenne', 'Emir', 'Float Board', 'Hung Board', 'Johana', 'Mariana', 'Shae']\n"
     ]
    }
   ],
   "source": [
    "test = [i for i in cleaned]\n",
    "print(test)"
   ]
  },
  {
   "cell_type": "code",
   "execution_count": 23,
   "metadata": {},
   "outputs": [],
   "source": [
    "df = pd.DataFrame(index=test,columns=[\"KING\",\"QUEEN\"])"
   ]
  },
  {
   "cell_type": "code",
   "execution_count": 24,
   "metadata": {},
   "outputs": [
    {
     "data": {
      "text/html": [
       "<div>\n",
       "<style scoped>\n",
       "    .dataframe tbody tr th:only-of-type {\n",
       "        vertical-align: middle;\n",
       "    }\n",
       "\n",
       "    .dataframe tbody tr th {\n",
       "        vertical-align: top;\n",
       "    }\n",
       "\n",
       "    .dataframe thead th {\n",
       "        text-align: right;\n",
       "    }\n",
       "</style>\n",
       "<table border=\"1\" class=\"dataframe\">\n",
       "  <thead>\n",
       "    <tr style=\"text-align: right;\">\n",
       "      <th></th>\n",
       "      <th>KING</th>\n",
       "      <th>QUEEN</th>\n",
       "    </tr>\n",
       "  </thead>\n",
       "  <tbody>\n",
       "    <tr>\n",
       "      <th>Alexander</th>\n",
       "      <td>NaN</td>\n",
       "      <td>NaN</td>\n",
       "    </tr>\n",
       "    <tr>\n",
       "      <th>Cheyenne</th>\n",
       "      <td>NaN</td>\n",
       "      <td>NaN</td>\n",
       "    </tr>\n",
       "    <tr>\n",
       "      <th>Emir</th>\n",
       "      <td>NaN</td>\n",
       "      <td>NaN</td>\n",
       "    </tr>\n",
       "    <tr>\n",
       "      <th>Float Board</th>\n",
       "      <td>NaN</td>\n",
       "      <td>NaN</td>\n",
       "    </tr>\n",
       "    <tr>\n",
       "      <th>Hung Board</th>\n",
       "      <td>NaN</td>\n",
       "      <td>NaN</td>\n",
       "    </tr>\n",
       "    <tr>\n",
       "      <th>Johana</th>\n",
       "      <td>NaN</td>\n",
       "      <td>NaN</td>\n",
       "    </tr>\n",
       "    <tr>\n",
       "      <th>Mariana</th>\n",
       "      <td>NaN</td>\n",
       "      <td>NaN</td>\n",
       "    </tr>\n",
       "    <tr>\n",
       "      <th>Shae</th>\n",
       "      <td>NaN</td>\n",
       "      <td>NaN</td>\n",
       "    </tr>\n",
       "  </tbody>\n",
       "</table>\n",
       "</div>"
      ],
      "text/plain": [
       "            KING QUEEN\n",
       "Alexander    NaN   NaN\n",
       "Cheyenne     NaN   NaN\n",
       "Emir         NaN   NaN\n",
       "Float Board  NaN   NaN\n",
       "Hung Board   NaN   NaN\n",
       "Johana       NaN   NaN\n",
       "Mariana      NaN   NaN\n",
       "Shae         NaN   NaN"
      ]
     },
     "execution_count": 24,
     "metadata": {},
     "output_type": "execute_result"
    }
   ],
   "source": [
    "df"
   ]
  },
  {
   "cell_type": "code",
   "execution_count": 29,
   "metadata": {},
   "outputs": [
    {
     "ename": "TypeError",
     "evalue": "'int' object is not iterable",
     "output_type": "error",
     "traceback": [
      "\u001b[1;31m---------------------------------------------------------------------------\u001b[0m",
      "\u001b[1;31mTypeError\u001b[0m                                 Traceback (most recent call last)",
      "\u001b[1;32mc:\\Users\\Gaku Tokusumi\\OneDrive - Graduate Hotels\\Documents\\Housekeeping Recon Program\\HK Hotel Effictiveness\\test.ipynb Cell 37\u001b[0m in \u001b[0;36m<cell line: 1>\u001b[1;34m()\u001b[0m\n\u001b[1;32m----> <a href='vscode-notebook-cell:/c%3A/Users/Gaku%20Tokusumi/OneDrive%20-%20Graduate%20Hotels/Documents/Housekeeping%20Recon%20Program/HK%20Hotel%20Effictiveness/test.ipynb#X65sZmlsZQ%3D%3D?line=0'>1</a>\u001b[0m \u001b[39mfor\u001b[39;00m i \u001b[39min\u001b[39;00m \u001b[39mlen\u001b[39m(df):\n\u001b[0;32m      <a href='vscode-notebook-cell:/c%3A/Users/Gaku%20Tokusumi/OneDrive%20-%20Graduate%20Hotels/Documents/Housekeeping%20Recon%20Program/HK%20Hotel%20Effictiveness/test.ipynb#X65sZmlsZQ%3D%3D?line=1'>2</a>\u001b[0m     \u001b[39mprint\u001b[39m(df\u001b[39m.\u001b[39mloc[i])\n",
      "\u001b[1;31mTypeError\u001b[0m: 'int' object is not iterable"
     ]
    }
   ],
   "source": [
    "for i in len(df):\n",
    "    print(df.loc[i])"
   ]
  },
  {
   "cell_type": "code",
   "execution_count": 37,
   "metadata": {},
   "outputs": [],
   "source": [
    "dictCount=[('Alexander',\n",
    "  {'King Checkout': 4,\n",
    "   'King Stayover': 3,\n",
    "   'Queen Checkout': 3,\n",
    "   'Queen Stayover': 3}), \n",
    "   ('test',\n",
    "    {'King Checkout': 2,\n",
    "   'King Stayover': 1,\n",
    "   'Queen Checkout': 5,\n",
    "   'Queen Stayover': 7})]\n",
    "headerValues = ['King Checkout','King Stayover','Queen Checkout','Queen Stayover']"
   ]
  },
  {
   "cell_type": "code",
   "execution_count": 40,
   "metadata": {},
   "outputs": [],
   "source": [
    "data = pd.DataFrame(index=[i[0] for i in dictCount],columns= headerValues)"
   ]
  },
  {
   "cell_type": "code",
   "execution_count": 44,
   "metadata": {},
   "outputs": [],
   "source": [
    "data.iloc[0].loc[\"King Checkout\"] = 1"
   ]
  },
  {
   "cell_type": "code",
   "execution_count": null,
   "metadata": {},
   "outputs": [],
   "source": [
    "for i in range(len(dictCount)):\n",
    "    for j in range(len(headerValues)):\n",
    "        data.iloc[]"
   ]
  },
  {
   "cell_type": "code",
   "execution_count": 16,
   "metadata": {},
   "outputs": [
    {
     "name": "stdout",
     "output_type": "stream",
     "text": [
      "['Alexander', 'Cheyenne', 'Emir', 'Float Board', 'Hung Board', 'Johana', 'Mariana', 'Shae']\n"
     ]
    }
   ],
   "source": [
    "print(test)"
   ]
  },
  {
   "cell_type": "code",
   "execution_count": 9,
   "metadata": {},
   "outputs": [],
   "source": [
    "alex = cleaned['Alexander']"
   ]
  },
  {
   "cell_type": "code",
   "execution_count": 66,
   "metadata": {},
   "outputs": [
    {
     "data": {
      "text/html": [
       "<div>\n",
       "<style scoped>\n",
       "    .dataframe tbody tr th:only-of-type {\n",
       "        vertical-align: middle;\n",
       "    }\n",
       "\n",
       "    .dataframe tbody tr th {\n",
       "        vertical-align: top;\n",
       "    }\n",
       "\n",
       "    .dataframe thead th {\n",
       "        text-align: right;\n",
       "    }\n",
       "</style>\n",
       "<table border=\"1\" class=\"dataframe\">\n",
       "  <thead>\n",
       "    <tr style=\"text-align: right;\">\n",
       "      <th></th>\n",
       "      <th>Room Type</th>\n",
       "      <th>Employee Assigned</th>\n",
       "      <th>Room Points</th>\n",
       "      <th>Service Type</th>\n",
       "      <th>Action</th>\n",
       "    </tr>\n",
       "  </thead>\n",
       "  <tbody>\n",
       "    <tr>\n",
       "      <th>63</th>\n",
       "      <td>GQQ</td>\n",
       "      <td>Alexander</td>\n",
       "      <td>4.0</td>\n",
       "      <td>Light</td>\n",
       "      <td>NaN</td>\n",
       "    </tr>\n",
       "    <tr>\n",
       "      <th>67</th>\n",
       "      <td>SGQQ</td>\n",
       "      <td>Alexander</td>\n",
       "      <td>7.0</td>\n",
       "      <td>Light</td>\n",
       "      <td>NaN</td>\n",
       "    </tr>\n",
       "    <tr>\n",
       "      <th>66</th>\n",
       "      <td>GQQ</td>\n",
       "      <td>Alexander</td>\n",
       "      <td>4.0</td>\n",
       "      <td>Light</td>\n",
       "      <td>NaN</td>\n",
       "    </tr>\n",
       "    <tr>\n",
       "      <th>65</th>\n",
       "      <td>GK</td>\n",
       "      <td>Alexander</td>\n",
       "      <td>3.0</td>\n",
       "      <td>Light</td>\n",
       "      <td>NaN</td>\n",
       "    </tr>\n",
       "    <tr>\n",
       "      <th>64</th>\n",
       "      <td>GQQ</td>\n",
       "      <td>Alexander</td>\n",
       "      <td>4.0</td>\n",
       "      <td>Light</td>\n",
       "      <td>NaN</td>\n",
       "    </tr>\n",
       "    <tr>\n",
       "      <th>62</th>\n",
       "      <td>DGK</td>\n",
       "      <td>Alexander</td>\n",
       "      <td>3.0</td>\n",
       "      <td>Light</td>\n",
       "      <td>NaN</td>\n",
       "    </tr>\n",
       "    <tr>\n",
       "      <th>7</th>\n",
       "      <td>GK</td>\n",
       "      <td>Alexander</td>\n",
       "      <td>NaN</td>\n",
       "      <td>Check-Out</td>\n",
       "      <td>NaN</td>\n",
       "    </tr>\n",
       "    <tr>\n",
       "      <th>8</th>\n",
       "      <td>GK</td>\n",
       "      <td>Alexander</td>\n",
       "      <td>6.0</td>\n",
       "      <td>Check-Out</td>\n",
       "      <td>NaN</td>\n",
       "    </tr>\n",
       "    <tr>\n",
       "      <th>9</th>\n",
       "      <td>GQQ</td>\n",
       "      <td>Alexander</td>\n",
       "      <td>7.0</td>\n",
       "      <td>Check-Out</td>\n",
       "      <td>Cleaning Started</td>\n",
       "    </tr>\n",
       "    <tr>\n",
       "      <th>10</th>\n",
       "      <td>GQQ</td>\n",
       "      <td>Alexander</td>\n",
       "      <td>7.0</td>\n",
       "      <td>Check-Out</td>\n",
       "      <td>NaN</td>\n",
       "    </tr>\n",
       "    <tr>\n",
       "      <th>11</th>\n",
       "      <td>GK</td>\n",
       "      <td>Alexander</td>\n",
       "      <td>6.0</td>\n",
       "      <td>Check-Out</td>\n",
       "      <td>NaN</td>\n",
       "    </tr>\n",
       "    <tr>\n",
       "      <th>12</th>\n",
       "      <td>STE1</td>\n",
       "      <td>Alexander</td>\n",
       "      <td>9.0</td>\n",
       "      <td>Check-Out</td>\n",
       "      <td>NaN</td>\n",
       "    </tr>\n",
       "  </tbody>\n",
       "</table>\n",
       "</div>"
      ],
      "text/plain": [
       "   Room Type Employee Assigned  Room Points Service Type            Action\n",
       "63       GQQ         Alexander          4.0        Light               NaN\n",
       "67      SGQQ         Alexander          7.0        Light               NaN\n",
       "66       GQQ         Alexander          4.0        Light               NaN\n",
       "65        GK         Alexander          3.0        Light               NaN\n",
       "64       GQQ         Alexander          4.0        Light               NaN\n",
       "62       DGK         Alexander          3.0        Light               NaN\n",
       "7         GK         Alexander          NaN    Check-Out               NaN\n",
       "8         GK         Alexander          6.0    Check-Out               NaN\n",
       "9        GQQ         Alexander          7.0    Check-Out  Cleaning Started\n",
       "10       GQQ         Alexander          7.0    Check-Out               NaN\n",
       "11        GK         Alexander          6.0    Check-Out               NaN\n",
       "12      STE1         Alexander          9.0    Check-Out               NaN"
      ]
     },
     "execution_count": 66,
     "metadata": {},
     "output_type": "execute_result"
    }
   ],
   "source": [
    "alex"
   ]
  },
  {
   "cell_type": "code",
   "execution_count": 12,
   "metadata": {},
   "outputs": [],
   "source": [
    "# Change else statement to switch case instead\n",
    "# Change the counts for suites \n",
    "count = roomCount\n",
    "FullCount= []\n",
    "kings = ['GK','AGK','B5GK','DGK','STK']\n",
    "queens = ['GQQ','GTT','STB','DCGQQ','ASJQQ']\n",
    "suitesK = ['SGK','STE1']\n",
    "SuitesS = 'STE2'\n",
    "suitesQ = ['SGQQ','ASGQQ']\n",
    "for i in range(len(alex['Room Points'])):\n",
    "    points = alex[\"Room Points\"].iloc[i] \n",
    "    room = alex['Room Type'].iloc[i]\n",
    "    service = alex['Service Type'].iloc[i]\n",
    "    if pd.isna(alex['Room Points'].iloc[i]) == True:\n",
    "        if room in kings:\n",
    "            if service == 'Check-Out':\n",
    "                count['King Checkout'] = count['King Checkout'] + 1\n",
    "            else:\n",
    "                count['King Stayover'] = count['King Stayover'] + 1\n",
    "        if room in queens:\n",
    "            if service == 'Check-Out':\n",
    "                count['Queen Checkout'] = count['Queen Checkout'] + 1\n",
    "            else:\n",
    "                count['Queen Stayover'] = count['Queen Stayover'] + 1\n",
    "        if room in suitesK:\n",
    "            if service == 'Check-Out':\n",
    "                count['King Checkout'] = count['King Checkout'] +1 \n",
    "                count['King Stayover'] = count['King Stayover'] +1\n",
    "            else:\n",
    "                count['King Checkout'] = count['King Checkout'] +1 \n",
    "        if room == SuitesS:\n",
    "            if service == 'Check-Out':\n",
    "                count['King Checkout'] = count['King Checkout'] + 2\n",
    "            else:\n",
    "                count['King Checkout'] = count['King Checkout'] +1 \n",
    "        if room in suitesQ:\n",
    "            if service == 'Check-Out':\n",
    "                count['Queen Checkout'] = count['Queen Checkout'] +1\n",
    "                count['king Stayover'] = count['King Stayover'] + 1\n",
    "\n",
    "    #   Write code to check room type and service type\n",
    "    else:\n",
    "        if points == 3:\n",
    "            count['King Stayover'] = count['King Stayover'] + 1\n",
    "        if points == 4:\n",
    "            count['Queen Stayover'] = count['Queen Stayover'] + 1\n",
    "        if points == 6:\n",
    "            count['King Checkout'] = count['King Checkout'] + 1\n",
    "        if points == 7:\n",
    "            count['Queen Checkout'] = count['Queen Checkout'] + 1\n",
    "        if points == 9:\n",
    "            count['King Checkout'] = count['King Checkout'] + 1\n",
    "            count['King Stayover'] = count['King Stayover'] + 1\n",
    "        if points == 10:\n",
    "            count['King Checkout'] = count['King Checkout'] + 1\n",
    "            count['Queen Stayover'] = count['Queen Stayover'] +1\n",
    "        if points == 12:\n",
    "            count['King Checkout'] = count['King Checkout'] + 2 \n",
    "FullCount.append(('Alexander',count))"
   ]
  },
  {
   "cell_type": "code",
   "execution_count": 80,
   "metadata": {},
   "outputs": [
    {
     "data": {
      "text/plain": [
       "True"
      ]
     },
     "execution_count": 80,
     "metadata": {},
     "output_type": "execute_result"
    }
   ],
   "source": [
    "pd.isna(alex['Room Points'].iloc[6])"
   ]
  },
  {
   "cell_type": "code",
   "execution_count": 13,
   "metadata": {},
   "outputs": [
    {
     "data": {
      "text/plain": [
       "[('Alexander',\n",
       "  {'King Checkout': 4,\n",
       "   'King Stayover': 3,\n",
       "   'Queen Checkout': 3,\n",
       "   'Queen Stayover': 3})]"
      ]
     },
     "execution_count": 13,
     "metadata": {},
     "output_type": "execute_result"
    }
   ],
   "source": [
    "FullCount"
   ]
  },
  {
   "cell_type": "code",
   "execution_count": 15,
   "metadata": {},
   "outputs": [
    {
     "name": "stdout",
     "output_type": "stream",
     "text": [
      "['Alexander']\n"
     ]
    }
   ],
   "source": [
    "print([i[0] for i in FullCount])"
   ]
  },
  {
   "cell_type": "code",
   "execution_count": 16,
   "metadata": {},
   "outputs": [],
   "source": [
    "testdf = pd.DataFrame(index=test)"
   ]
  },
  {
   "cell_type": "code",
   "execution_count": 18,
   "metadata": {},
   "outputs": [
    {
     "data": {
      "text/plain": [
       "10"
      ]
     },
     "execution_count": 18,
     "metadata": {},
     "output_type": "execute_result"
    }
   ],
   "source": [
    "len(testdf)"
   ]
  },
  {
   "cell_type": "code",
   "execution_count": 19,
   "metadata": {},
   "outputs": [
    {
     "data": {
      "text/html": [
       "<div>\n",
       "<style scoped>\n",
       "    .dataframe tbody tr th:only-of-type {\n",
       "        vertical-align: middle;\n",
       "    }\n",
       "\n",
       "    .dataframe tbody tr th {\n",
       "        vertical-align: top;\n",
       "    }\n",
       "\n",
       "    .dataframe thead th {\n",
       "        text-align: right;\n",
       "    }\n",
       "</style>\n",
       "<table border=\"1\" class=\"dataframe\">\n",
       "  <thead>\n",
       "    <tr style=\"text-align: right;\">\n",
       "      <th></th>\n",
       "    </tr>\n",
       "  </thead>\n",
       "  <tbody>\n",
       "    <tr>\n",
       "      <th>Alexander</th>\n",
       "    </tr>\n",
       "    <tr>\n",
       "      <th>Andrea A</th>\n",
       "    </tr>\n",
       "    <tr>\n",
       "      <th>Cheyenne</th>\n",
       "    </tr>\n",
       "    <tr>\n",
       "      <th>Emir</th>\n",
       "    </tr>\n",
       "    <tr>\n",
       "      <th>Jasmine</th>\n",
       "    </tr>\n",
       "    <tr>\n",
       "      <th>Johana</th>\n",
       "    </tr>\n",
       "    <tr>\n",
       "      <th>Julio</th>\n",
       "    </tr>\n",
       "    <tr>\n",
       "      <th>Mariana</th>\n",
       "    </tr>\n",
       "    <tr>\n",
       "      <th>Nestor</th>\n",
       "    </tr>\n",
       "    <tr>\n",
       "      <th>Shae</th>\n",
       "    </tr>\n",
       "  </tbody>\n",
       "</table>\n",
       "</div>"
      ],
      "text/plain": [
       "Empty DataFrame\n",
       "Columns: []\n",
       "Index: [Alexander, Andrea A, Cheyenne, Emir, Jasmine, Johana, Julio, Mariana, Nestor, Shae]"
      ]
     },
     "execution_count": 19,
     "metadata": {},
     "output_type": "execute_result"
    }
   ],
   "source": [
    "testdf"
   ]
  },
  {
   "cell_type": "code",
   "execution_count": null,
   "metadata": {},
   "outputs": [],
   "source": []
  }
 ],
 "metadata": {
  "kernelspec": {
   "display_name": "Python 3",
   "language": "python",
   "name": "python3"
  },
  "language_info": {
   "codemirror_mode": {
    "name": "ipython",
    "version": 3
   },
   "file_extension": ".py",
   "mimetype": "text/x-python",
   "name": "python",
   "nbconvert_exporter": "python",
   "pygments_lexer": "ipython3",
   "version": "3.10.5"
  },
  "orig_nbformat": 4,
  "vscode": {
   "interpreter": {
    "hash": "aca26ef14abcca5819849c12a18424b672a848bb003cc87aff60096a2185af3e"
   }
  }
 },
 "nbformat": 4,
 "nbformat_minor": 2
}
